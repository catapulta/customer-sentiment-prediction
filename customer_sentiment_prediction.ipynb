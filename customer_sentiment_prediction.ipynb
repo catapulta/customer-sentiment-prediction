{
 "cells": [
  {
   "cell_type": "markdown",
   "metadata": {},
   "source": [
    "# Opinion Mining using Yelp Reviews\n",
    "\n",
    "##### Authors: Aldo Marini, Daniel Fernandez, Shounak Purkayastha\n",
    "\n",
    "###### Abstract:\n",
    "An important part of an opinion is its sentiment. To predict these sentiments, we use a Yelp dataset to train an Opinion Mining model. We explore two approaches for creating features: uni-gram bag of words model and pre-trained embeddings. The bag of words model is based on the count of lemmatized words in each opinion. The pre-trained embeddings are built using the GloVe model over 2B tweets. Both models extract semantic information from the database. Stars are assigned by users to business reviews. We first partition these stars into positive and negative sentiment. We then focus on predicting the sentiment of a review based on a balanced set in terms of users, businesses, positive and negative reviews."
   ]
  },
  {
   "cell_type": "markdown",
   "metadata": {},
   "source": [
    "## DESCRIPTIVE STATISTICS"
   ]
  },
  {
   "cell_type": "code",
   "execution_count": 1,
   "metadata": {},
   "outputs": [],
   "source": [
    "import pandas as pd\n",
    "basic = pd.read_csv('basic_db.gz')"
   ]
  },
  {
   "cell_type": "code",
   "execution_count": 5,
   "metadata": {},
   "outputs": [
    {
     "data": {
      "text/plain": [
       "<matplotlib.axes._subplots.AxesSubplot at 0x1157c8dd8>"
      ]
     },
     "execution_count": 5,
     "metadata": {},
     "output_type": "execute_result"
    },
    {
     "data": {
      "image/png": "[encoded data removed]",
      "text/plain": [
       "<matplotlib.figure.Figure at 0x116e79320>"
      ]
     },
     "metadata": {},
     "output_type": "display_data"
    }
   ],
   "source": [
    "import seaborn as sns\n",
    "sns.distplot(basic['stars'].values, kde=False)\n"
   ]
  },
  {
   "cell_type": "markdown",
   "metadata": {},
   "source": [
    "## Statistics of reviews per Users"
   ]
  },
  {
   "cell_type": "code",
   "execution_count": 8,
   "metadata": {},
   "outputs": [
    {
     "data": {
      "text/plain": [
       "count           1,326,101.00\n",
       "mean                    3.97\n",
       "std                    13.71\n",
       "min                     1.00\n",
       "25%                     1.00\n",
       "50%                     1.00\n",
       "75%                     3.00\n",
       "max                 3,569.00\n",
       "Name: date, dtype: float64"
      ]
     },
     "execution_count": 8,
     "metadata": {},
     "output_type": "execute_result"
    }
   ],
   "source": [
    "grps_person = basic.groupby('user_id')\n",
    "reviews_person = grps_person.count().sort_values(by='business_id', ascending = False)  ## Counts of reviews per person\n",
    "pd.options.display.float_format = '{:20,.2f}'.format\n",
    "reviews_person.iloc[:,1].describe()"
   ]
  },
  {
   "cell_type": "markdown",
   "metadata": {
    "scrolled": true
   },
   "source": [
    "### Statistics of reviews per Business"
   ]
  },
  {
   "cell_type": "code",
   "execution_count": 9,
   "metadata": {},
   "outputs": [
    {
     "data": {
      "text/plain": [
       "count             174,567.00\n",
       "mean                   30.14\n",
       "std                    98.22\n",
       "min                     1.00\n",
       "25%                     4.00\n",
       "50%                     8.00\n",
       "75%                    23.00\n",
       "max                 7,362.00\n",
       "Name: stars, dtype: float64"
      ]
     },
     "execution_count": 9,
     "metadata": {},
     "output_type": "execute_result"
    }
   ],
   "source": [
    "grps_business = basic.groupby('business_id')\n",
    "reviews_business = grps_business.count().sort_values(by='stars', ascending = False)  ## Counts of reviews per business\n",
    "pd.options.display.float_format = '{:20,.2f}'.format\n",
    "reviews_business.iloc[:,1].describe()"
   ]
  },
  {
   "cell_type": "code",
   "execution_count": 11,
   "metadata": {},
   "outputs": [],
   "source": [
    "reviews_person.iloc[:,1].to_csv('reviews_per_user_tableau.csv')"
   ]
  },
  {
   "cell_type": "code",
   "execution_count": 12,
   "metadata": {},
   "outputs": [
    {
     "data": {
      "text/plain": [
       "<matplotlib.axes._subplots.AxesSubplot at 0x115eca710>"
      ]
     },
     "execution_count": 12,
     "metadata": {},
     "output_type": "execute_result"
    },
    {
     "data": {
      "image/png": "[encoded data removed]",
      "text/plain": [
       "<matplotlib.figure.Figure at 0x113fa5a20>"
      ]
     },
     "metadata": {},
     "output_type": "display_data"
    }
   ],
   "source": [
    "import matplotlib as plt\n",
    "\n",
    "#Making an histogram to see how are the counts of reviews by user are distributed\n",
    "reviews_person.iloc[:,1].plot.hist(bins = 3000, xlim=(0,40))"
   ]
  },
  {
   "cell_type": "code",
   "execution_count": 6,
   "metadata": {},
   "outputs": [
    {
     "data": {
      "text/plain": [
       "<matplotlib.axes._subplots.AxesSubplot at 0x10f2569e8>"
      ]
     },
     "execution_count": 6,
     "metadata": {},
     "output_type": "execute_result"
    },
    {
     "data": {
      "image/png": "[encoded data removed]",
      "text/plain": [
       "<matplotlib.figure.Figure at 0x10f03fc88>"
      ]
     },
     "metadata": {},
     "output_type": "display_data"
    }
   ],
   "source": [
    "import matplotlib as plt\n",
    "\n",
    "#Making an histogram to see how are the counts of reviews by business are distributed\n",
    "reviews_business.iloc[:,1].plot.hist(bins = 3000, xlim=(0,200))"
   ]
  },
  {
   "cell_type": "code",
   "execution_count": 6,
   "metadata": {},
   "outputs": [],
   "source": [
    "def percentiles(type1, type2, base, output):\n",
    "    import numpy as np\n",
    "    import matplotlib as plt\n",
    "    import time\n",
    "\n",
    "    start_time = time.time()\n",
    "    basic = base\n",
    "    # This for loop calculates the percentiles and of the counts of reviews per . \n",
    "    #Also calculates the sum of number of reviews accumulates in actual and previous percentiles\n",
    "    # Group by user id\n",
    "    grps_ = basic.groupby(type1)\n",
    "    ## Counts of reviews per person\n",
    "    reviews_ = grps_.count().sort_values(by=type2, ascending = False)\n",
    "    \n",
    "    #Calculates the Percentiles\n",
    "    list_quantiles_ = []\n",
    "    list_sum_reviews_ = []\n",
    "    for i in np.arange(1,101,1):\n",
    "        list_quantiles_.append(reviews_.iloc[:,1].quantile(i/100))   ## Calculates percentiles over the count of reviews\n",
    "        list_sum_reviews_.append(sum(reviews_.iloc[:,1].sort_values()[0:int(len(reviews_.iloc[:,1])*i/100)]))   #Accumulative sum of count of reviews by percentile\n",
    "    \n",
    "    # Creating and printing the table of percentiles\n",
    "    q = np.arange(1,101,1)\n",
    "    percentiles_count = pd.DataFrame({'Count_Reviews':list_quantiles_, 'Percentile':q, 'Sum_reviews':list_sum_reviews_})\n",
    "    print(percentiles_count.head(output))\n",
    "    \n",
    "    #Plot of Percentiles vs Sum of Reviews\n",
    "    title = 'Percentiles and Sum of reviews by '+ type1\n",
    "    percentiles_count.plot(x='Percentile',y='Sum_reviews', title=title)\n",
    "    print(time.time() - start_time)\n",
    "    return percentiles_count"
   ]
  },
  {
   "cell_type": "code",
   "execution_count": 15,
   "metadata": {},
   "outputs": [
    {
     "name": "stdout",
     "output_type": "stream",
     "text": [
      "    Count_Reviews  Percentile  Sum_reviews\n",
      "0             1.0           1        13261\n",
      "1             1.0           2        26522\n",
      "2             1.0           3        39783\n",
      "3             1.0           4        53044\n",
      "4             1.0           5        66305\n",
      "5             1.0           6        79566\n",
      "6             1.0           7        92827\n",
      "7             1.0           8       106088\n",
      "8             1.0           9       119349\n",
      "9             1.0          10       132610\n",
      "10            1.0          11       145871\n",
      "11            1.0          12       159132\n",
      "12            1.0          13       172393\n",
      "13            1.0          14       185654\n",
      "14            1.0          15       198915\n",
      "15            1.0          16       212176\n",
      "16            1.0          17       225437\n",
      "17            1.0          18       238698\n",
      "18            1.0          19       251959\n",
      "19            1.0          20       265220\n",
      "20            1.0          21       278481\n",
      "21            1.0          22       291742\n",
      "22            1.0          23       305003\n",
      "23            1.0          24       318264\n",
      "24            1.0          25       331525\n",
      "25            1.0          26       344786\n",
      "26            1.0          27       358047\n",
      "27            1.0          28       371308\n",
      "28            1.0          29       384569\n",
      "29            1.0          30       397830\n",
      "..            ...         ...          ...\n",
      "70            3.0          71      1206254\n",
      "71            3.0          72      1246037\n",
      "72            3.0          73      1285820\n",
      "73            3.0          74      1325603\n",
      "74            3.0          75      1365386\n",
      "75            3.0          76      1405169\n",
      "76            3.0          77      1444952\n",
      "77            4.0          78      1487600\n",
      "78            4.0          79      1540644\n",
      "79            4.0          80      1593688\n",
      "80            4.0          81      1646732\n",
      "81            4.0          82      1699776\n",
      "82            5.0          83      1754492\n",
      "83            5.0          84      1820797\n",
      "84            5.0          85      1887102\n",
      "85            5.0          86      1953407\n",
      "86            6.0          87      2030201\n",
      "87            6.0          88      2109767\n",
      "88            7.0          89      2194881\n",
      "89            7.0          90      2287708\n",
      "90            8.0          91      2389527\n",
      "91            9.0          92      2499768\n",
      "92           10.0          93      2622459\n",
      "93           11.0          94      2760360\n",
      "94           13.0          95      2916913\n",
      "95           15.0          96      3100230\n",
      "96           19.0          97      3320336\n",
      "97           25.0          98      3603378\n",
      "98           41.0          99      4018746\n",
      "99         3569.0         100      5261669\n",
      "\n",
      "[100 rows x 3 columns]\n",
      "28.602540969848633\n"
     ]
    },
    {
     "data": {
      "image/png": "[encoded data removed]",
      "text/plain": [
       "<matplotlib.figure.Figure at 0x10a4d5518>"
      ]
     },
     "metadata": {},
     "output_type": "display_data"
    }
   ],
   "source": [
    "percentiles_user = percentiles('user_id','business_id', basic, 100)\n",
    "percentiles_user.to_csv('percetiles_counts_tableau.csv')"
   ]
  },
  {
   "cell_type": "markdown",
   "metadata": {},
   "source": [
    "### Similarly for business"
   ]
  },
  {
   "cell_type": "code",
   "execution_count": 16,
   "metadata": {},
   "outputs": [
    {
     "name": "stdout",
     "output_type": "stream",
     "text": [
      "    Count_Reviews  Percentile  Sum_reviews\n",
      "0             3.0           1         5191\n",
      "1             3.0           2        10429\n",
      "2             3.0           3        15667\n",
      "3             3.0           4        20902\n",
      "4             3.0           5        26140\n",
      "5             3.0           6        31378\n",
      "6             3.0           7        36613\n",
      "7             3.0           8        41851\n",
      "8             3.0           9        47089\n",
      "9             3.0          10        52324\n",
      "10            3.0          11        57562\n",
      "11            3.0          12        62800\n",
      "12            3.0          13        68035\n",
      "13            3.0          14        73273\n",
      "14            3.0          15        78511\n",
      "15            3.0          16        83746\n",
      "16            3.0          17        88984\n",
      "17            3.0          18        94222\n",
      "18            4.0          19       100240\n",
      "19            4.0          20       107224\n",
      "20            4.0          21       114208\n",
      "21            4.0          22       121188\n",
      "22            4.0          23       128172\n",
      "23            4.0          24       135156\n",
      "24            4.0          25       142136\n",
      "25            4.0          26       149120\n",
      "26            4.0          27       156104\n",
      "27            4.0          28       163084\n",
      "28            5.0          29       171169\n",
      "29            5.0          30       179899\n",
      "..            ...         ...          ...\n",
      "70           19.0          71       862163\n",
      "71           20.0          72       895582\n",
      "72           21.0          73       930654\n",
      "73           22.0          74       967544\n",
      "74           23.0          75      1006367\n",
      "75           24.0          76      1047167\n",
      "76           25.0          77      1090077\n",
      "77           27.0          78      1135308\n",
      "78           28.0          79      1183175\n",
      "79           30.0          80      1233826\n",
      "80           32.0          81      1287430\n",
      "81           34.0          82      1344462\n",
      "82           36.0          83      1405240\n",
      "83           39.0          84      1470151\n",
      "84           41.0          85      1539860\n",
      "85           44.0          86      1614610\n",
      "86           48.0          87      1695334\n",
      "87           52.0          88      1782543\n",
      "88           57.0          89      1877242\n",
      "89           62.0          90      1980838\n",
      "90           69.0          91      2095009\n",
      "91           77.0          92      2221973\n",
      "92           87.0          93      2364249\n",
      "93           99.0          94      2525333\n",
      "94          115.0          95      2711416\n",
      "95          137.0          96      2930578\n",
      "96          172.0          97      3197961\n",
      "97          228.0          98      3542242\n",
      "98          351.0          99      4030833\n",
      "99         7362.0         100      5261669\n",
      "\n",
      "[100 rows x 3 columns]\n",
      "5.43006706237793\n"
     ]
    },
    {
     "data": {
      "image/png": "[encoded data removed]",
      "text/plain": [
       "<matplotlib.figure.Figure at 0x10a955588>"
      ]
     },
     "metadata": {},
     "output_type": "display_data"
    }
   ],
   "source": [
    "percentiles_business = percentiles('business_id', 'user_id', basic, 100)\n",
    "percentiles_business.to_csv('percetiles_counts_business_tableau.csv')"
   ]
  },
  {
   "cell_type": "markdown",
   "metadata": {},
   "source": [
    "## Limiting the reviews per user\n",
    "Getting the user id of those people"
   ]
  },
  {
   "cell_type": "code",
   "execution_count": 140,
   "metadata": {},
   "outputs": [],
   "source": [
    "import pandas as pd\n",
    "basic = pd.read_csv('basic_db.gz')"
   ]
  },
  {
   "cell_type": "markdown",
   "metadata": {},
   "source": [
    "Given the noise that this unbalanced data (in terms of review counts by users) can have, and in line with Bo Pang and Lillian Lee and Shivakumar Vaithyanathan (2002) we decide to keep at most 41 reviews per user (which is the 99th percentile)."
   ]
  },
  {
   "cell_type": "code",
   "execution_count": 141,
   "metadata": {},
   "outputs": [
    {
     "data": {
      "text/plain": [
       "user_id\n",
       "CxDOIDnH8gp9KXzpBHJYXw    1645\n",
       "DK57YibC5ShBmqQl97CKog    1129\n",
       "bLbSNkLggFnqwNNzzq-Ijw    1098\n",
       "PKEzKWv_FktMm2mGPjwd0Q    1010\n",
       "cMEtAiW60I5wE_vLfTxoJQ    1009\n",
       "QJI9OSEn6ujRCtrX06vs1w     921\n",
       "U4INQZOPSUaj8hMjLlZ3KA     848\n",
       "ELcQDlf69kb-ihJfxZyL0A     813\n",
       "hWDybu_KvYLSdEFzGrniTw     805\n",
       "dIIKEfOgo0KqUfGQvGikPg     795\n",
       "Name: date, dtype: int64"
      ]
     },
     "execution_count": 141,
     "metadata": {},
     "output_type": "execute_result"
    }
   ],
   "source": [
    "#Remove the reviews with 3 stars\n",
    "basic = basic[basic['stars'] != 3]\n",
    "# Group by user id\n",
    "grps_person = basic.groupby('user_id')\n",
    "## Counts of reviews per person\n",
    "reviews_person = grps_person.count().sort_values(by='business_id', ascending = False)\n",
    "#Setting the output format\n",
    "pd.options.display.float_format = '{:20,.2f}'.format\n",
    "#Display\n",
    "reviews_person.iloc[:,1][0:10]"
   ]
  },
  {
   "cell_type": "code",
   "execution_count": 142,
   "metadata": {},
   "outputs": [],
   "source": [
    "#Filter users with more than 41 reviews\n",
    "import os\n",
    "users_large_num_reviews = pd.Series(reviews_person[reviews_person['stars']>41].index)\n",
    "users_large_num_reviews.to_csv('./users_large_num_reviews.csv')\n"
   ]
  },
  {
   "cell_type": "markdown",
   "metadata": {},
   "source": [
    "## Limiting the reviews per business"
   ]
  },
  {
   "cell_type": "code",
   "execution_count": 144,
   "metadata": {},
   "outputs": [
    {
     "data": {
      "text/plain": [
       "business_id\n",
       "4JNXUYY8wbaaDmk3BPzlWw    6508\n",
       "RESDUcs7fIiihp38-d6_6g    5907\n",
       "K7lWdNUhCbcnEvI0NhGewg    4799\n",
       "cYwJA2A6I12KNkm2rtXd5g    4573\n",
       "DkYS3arLOhA8si5uUEmHOw    4310\n",
       "f4x1YBxkLrZg652xt2KR5g    4084\n",
       "KskYqH1Bi7Z_61pH6Om8pg    3538\n",
       "5LNZ67Yw9RD6nf4_UhXOjw    3428\n",
       "SMPbvZLSMMb7KU76YNYMGg    3261\n",
       "iCQpiavjjPzJ5_3gPD5Ebg    3243\n",
       "Name: stars, dtype: int64"
      ]
     },
     "execution_count": 144,
     "metadata": {},
     "output_type": "execute_result"
    }
   ],
   "source": [
    "#Remove the reviews with 3 stars\n",
    "basic = basic[basic['stars'] != 3]\n",
    "# Group by user id\n",
    "grps_business = basic.groupby('business_id')\n",
    "## Counts of reviews per business\n",
    "reviews_business = grps_business.count().sort_values(by='stars', ascending = False)\n",
    "#Setting the output format\n",
    "pd.options.display.float_format = '{:20,.2f}'.format\n",
    "#Display\n",
    "reviews_business.iloc[:,1][0:10]"
   ]
  },
  {
   "cell_type": "code",
   "execution_count": 145,
   "metadata": {},
   "outputs": [],
   "source": [
    "import os\n",
    "business_large_num_reviews = pd.Series(reviews_business[reviews_business['stars']>101].index)\n",
    "business_large_num_reviews.to_csv('./business_large_num_reviews.csv')"
   ]
  },
  {
   "cell_type": "markdown",
   "metadata": {},
   "source": [
    "## Reading the data of Reviews (text) to make a JOIN"
   ]
  },
  {
   "cell_type": "code",
   "execution_count": 147,
   "metadata": {
    "scrolled": true
   },
   "outputs": [
    {
     "name": "stderr",
     "output_type": "stream",
     "text": [
      "/anaconda3/lib/python3.6/site-packages/IPython/core/interactiveshell.py:2728: DtypeWarning: Columns (1) have mixed types. Specify dtype option on import or set low_memory=False.\n",
      "  interactivity=interactivity, compiler=compiler, result=result)\n"
     ]
    },
    {
     "data": {
      "text/html": [
       "<div>\n",
       "<style scoped>\n",
       "    .dataframe tbody tr th:only-of-type {\n",
       "        vertical-align: middle;\n",
       "    }\n",
       "\n",
       "    .dataframe tbody tr th {\n",
       "        vertical-align: top;\n",
       "    }\n",
       "\n",
       "    .dataframe thead th {\n",
       "        text-align: right;\n",
       "    }\n",
       "</style>\n",
       "<table border=\"1\" class=\"dataframe\">\n",
       "  <thead>\n",
       "    <tr style=\"text-align: right;\">\n",
       "      <th></th>\n",
       "      <th>business_id</th>\n",
       "      <th>stars</th>\n",
       "      <th>text</th>\n",
       "      <th>user_id</th>\n",
       "    </tr>\n",
       "  </thead>\n",
       "  <tbody>\n",
       "    <tr>\n",
       "      <th>0</th>\n",
       "      <td>0W4lkclzZThpx3V65bVgig</td>\n",
       "      <td>5</td>\n",
       "      <td>Love the staff, love the meat, love the place....</td>\n",
       "      <td>bv2nCi5Qv5vroFiqKGopiw</td>\n",
       "    </tr>\n",
       "    <tr>\n",
       "      <th>1</th>\n",
       "      <td>AEx2SYEUJmTxVVB18LlCwA</td>\n",
       "      <td>5</td>\n",
       "      <td>Super simple place but amazing nonetheless. It...</td>\n",
       "      <td>bv2nCi5Qv5vroFiqKGopiw</td>\n",
       "    </tr>\n",
       "    <tr>\n",
       "      <th>2</th>\n",
       "      <td>VR6GpWIda3SfvPC-lg9H3w</td>\n",
       "      <td>5</td>\n",
       "      <td>Small unassuming place that changes their menu...</td>\n",
       "      <td>bv2nCi5Qv5vroFiqKGopiw</td>\n",
       "    </tr>\n",
       "    <tr>\n",
       "      <th>3</th>\n",
       "      <td>CKC0-MOWMqoeWf6s-szl8g</td>\n",
       "      <td>5</td>\n",
       "      <td>Lester's is located in a beautiful neighborhoo...</td>\n",
       "      <td>bv2nCi5Qv5vroFiqKGopiw</td>\n",
       "    </tr>\n",
       "    <tr>\n",
       "      <th>4</th>\n",
       "      <td>ACFtxLv8pGrrxMm6EgjreA</td>\n",
       "      <td>4</td>\n",
       "      <td>Love coming here. Yes the place always needs t...</td>\n",
       "      <td>bv2nCi5Qv5vroFiqKGopiw</td>\n",
       "    </tr>\n",
       "  </tbody>\n",
       "</table>\n",
       "</div>"
      ],
      "text/plain": [
       "              business_id stars  \\\n",
       "0  0W4lkclzZThpx3V65bVgig     5   \n",
       "1  AEx2SYEUJmTxVVB18LlCwA     5   \n",
       "2  VR6GpWIda3SfvPC-lg9H3w     5   \n",
       "3  CKC0-MOWMqoeWf6s-szl8g     5   \n",
       "4  ACFtxLv8pGrrxMm6EgjreA     4   \n",
       "\n",
       "                                                text                 user_id  \n",
       "0  Love the staff, love the meat, love the place....  bv2nCi5Qv5vroFiqKGopiw  \n",
       "1  Super simple place but amazing nonetheless. It...  bv2nCi5Qv5vroFiqKGopiw  \n",
       "2  Small unassuming place that changes their menu...  bv2nCi5Qv5vroFiqKGopiw  \n",
       "3  Lester's is located in a beautiful neighborhoo...  bv2nCi5Qv5vroFiqKGopiw  \n",
       "4  Love coming here. Yes the place always needs t...  bv2nCi5Qv5vroFiqKGopiw  "
      ]
     },
     "execution_count": 147,
     "metadata": {},
     "output_type": "execute_result"
    }
   ],
   "source": [
    "import pandas as pd\n",
    "data = pd.read_csv('review_db.gz')\n",
    "data.head()"
   ]
  },
  {
   "cell_type": "markdown",
   "metadata": {},
   "source": [
    "We are not using datapoints with 3 stars, because we take them as neutral. We get rid of them to decrease data size."
   ]
  },
  {
   "cell_type": "code",
   "execution_count": 149,
   "metadata": {},
   "outputs": [
    {
     "name": "stdout",
     "output_type": "stream",
     "text": [
      "{1, 2, 4, 5}\n"
     ]
    }
   ],
   "source": [
    "data = data.drop(data[data['stars']=='QRn8ELZmvP8S4evnSRU9bQ'].index)\n",
    "data = data.drop(data[data['stars']=='aZs_IrhA7rvuLBumVhJjCw'].index)\n",
    "data['stars'][data['stars']=='1'] = 1\n",
    "data['stars'][data['stars']=='2'] = 2\n",
    "data['stars'][data['stars']=='3'] = 3\n",
    "data['stars'][data['stars']=='4'] = 4\n",
    "data['stars'][data['stars']=='5'] = 5\n",
    "data = data[data['stars'] != 3]\n",
    "print(set(data['stars']))\n",
    "data = data.filter(items=['business_id','stars','text','user_id'])"
   ]
  },
  {
   "cell_type": "markdown",
   "metadata": {},
   "source": [
    "### We take the users and Business that are above each threshold and join them to the review(comments) data set in order to get the rows that those reviews are."
   ]
  },
  {
   "cell_type": "code",
   "execution_count": 143,
   "metadata": {
    "scrolled": true
   },
   "outputs": [
    {
     "name": "stdout",
     "output_type": "stream",
     "text": [
      "10085\n"
     ]
    },
    {
     "data": {
      "text/plain": [
       "0    CxDOIDnH8gp9KXzpBHJYXw\n",
       "1    DK57YibC5ShBmqQl97CKog\n",
       "2    bLbSNkLggFnqwNNzzq-Ijw\n",
       "3    PKEzKWv_FktMm2mGPjwd0Q\n",
       "4    cMEtAiW60I5wE_vLfTxoJQ\n",
       "Name: 1, dtype: object"
      ]
     },
     "execution_count": 143,
     "metadata": {},
     "output_type": "execute_result"
    }
   ],
   "source": [
    "import pandas as pd\n",
    "users_to_random = pd.read_csv('users_large_num_reviews.csv', header = None)[1]\n",
    "print(len(users_to_random))\n",
    "users_to_random.head(5)"
   ]
  },
  {
   "cell_type": "code",
   "execution_count": 146,
   "metadata": {},
   "outputs": [
    {
     "name": "stdout",
     "output_type": "stream",
     "text": [
      "8709\n"
     ]
    },
    {
     "data": {
      "text/plain": [
       "0    4JNXUYY8wbaaDmk3BPzlWw\n",
       "1    RESDUcs7fIiihp38-d6_6g\n",
       "2    K7lWdNUhCbcnEvI0NhGewg\n",
       "3    cYwJA2A6I12KNkm2rtXd5g\n",
       "4    DkYS3arLOhA8si5uUEmHOw\n",
       "Name: 1, dtype: object"
      ]
     },
     "execution_count": 146,
     "metadata": {},
     "output_type": "execute_result"
    }
   ],
   "source": [
    "import pandas as pd\n",
    "business_to_random = pd.read_csv('business_large_num_reviews.csv', header = None)[1]\n",
    "print(len(business_to_random))\n",
    "business_to_random.head(5)"
   ]
  },
  {
   "cell_type": "code",
   "execution_count": 150,
   "metadata": {},
   "outputs": [],
   "source": [
    "users_to_random.name='user_id'\n",
    "users_to_random = users_to_random.to_frame()\n",
    "\n",
    "business_to_random.name = 'business_id'\n",
    "business_to_random = business_to_random.to_frame()"
   ]
  },
  {
   "cell_type": "markdown",
   "metadata": {},
   "source": [
    "## Merges the users to random reviews with all the data to get the indexes"
   ]
  },
  {
   "cell_type": "code",
   "execution_count": 151,
   "metadata": {},
   "outputs": [
    {
     "data": {
      "text/html": [
       "<div>\n",
       "<style scoped>\n",
       "    .dataframe tbody tr th:only-of-type {\n",
       "        vertical-align: middle;\n",
       "    }\n",
       "\n",
       "    .dataframe tbody tr th {\n",
       "        vertical-align: top;\n",
       "    }\n",
       "\n",
       "    .dataframe thead th {\n",
       "        text-align: right;\n",
       "    }\n",
       "</style>\n",
       "<table border=\"1\" class=\"dataframe\">\n",
       "  <thead>\n",
       "    <tr style=\"text-align: right;\">\n",
       "      <th></th>\n",
       "      <th>business_id</th>\n",
       "      <th>stars</th>\n",
       "      <th>text</th>\n",
       "      <th>user_id</th>\n",
       "      <th>index</th>\n",
       "    </tr>\n",
       "  </thead>\n",
       "  <tbody>\n",
       "    <tr>\n",
       "      <th>0</th>\n",
       "      <td>0W4lkclzZThpx3V65bVgig</td>\n",
       "      <td>5</td>\n",
       "      <td>Love the staff, love the meat, love the place....</td>\n",
       "      <td>bv2nCi5Qv5vroFiqKGopiw</td>\n",
       "      <td>0</td>\n",
       "    </tr>\n",
       "    <tr>\n",
       "      <th>1</th>\n",
       "      <td>AEx2SYEUJmTxVVB18LlCwA</td>\n",
       "      <td>5</td>\n",
       "      <td>Super simple place but amazing nonetheless. It...</td>\n",
       "      <td>bv2nCi5Qv5vroFiqKGopiw</td>\n",
       "      <td>1</td>\n",
       "    </tr>\n",
       "    <tr>\n",
       "      <th>2</th>\n",
       "      <td>VR6GpWIda3SfvPC-lg9H3w</td>\n",
       "      <td>5</td>\n",
       "      <td>Small unassuming place that changes their menu...</td>\n",
       "      <td>bv2nCi5Qv5vroFiqKGopiw</td>\n",
       "      <td>2</td>\n",
       "    </tr>\n",
       "    <tr>\n",
       "      <th>3</th>\n",
       "      <td>CKC0-MOWMqoeWf6s-szl8g</td>\n",
       "      <td>5</td>\n",
       "      <td>Lester's is located in a beautiful neighborhoo...</td>\n",
       "      <td>bv2nCi5Qv5vroFiqKGopiw</td>\n",
       "      <td>3</td>\n",
       "    </tr>\n",
       "    <tr>\n",
       "      <th>4</th>\n",
       "      <td>ACFtxLv8pGrrxMm6EgjreA</td>\n",
       "      <td>4</td>\n",
       "      <td>Love coming here. Yes the place always needs t...</td>\n",
       "      <td>bv2nCi5Qv5vroFiqKGopiw</td>\n",
       "      <td>4</td>\n",
       "    </tr>\n",
       "  </tbody>\n",
       "</table>\n",
       "</div>"
      ],
      "text/plain": [
       "              business_id stars  \\\n",
       "0  0W4lkclzZThpx3V65bVgig     5   \n",
       "1  AEx2SYEUJmTxVVB18LlCwA     5   \n",
       "2  VR6GpWIda3SfvPC-lg9H3w     5   \n",
       "3  CKC0-MOWMqoeWf6s-szl8g     5   \n",
       "4  ACFtxLv8pGrrxMm6EgjreA     4   \n",
       "\n",
       "                                                text                 user_id  \\\n",
       "0  Love the staff, love the meat, love the place....  bv2nCi5Qv5vroFiqKGopiw   \n",
       "1  Super simple place but amazing nonetheless. It...  bv2nCi5Qv5vroFiqKGopiw   \n",
       "2  Small unassuming place that changes their menu...  bv2nCi5Qv5vroFiqKGopiw   \n",
       "3  Lester's is located in a beautiful neighborhoo...  bv2nCi5Qv5vroFiqKGopiw   \n",
       "4  Love coming here. Yes the place always needs t...  bv2nCi5Qv5vroFiqKGopiw   \n",
       "\n",
       "   index  \n",
       "0      0  \n",
       "1      1  \n",
       "2      2  \n",
       "3      3  \n",
       "4      4  "
      ]
     },
     "execution_count": 151,
     "metadata": {},
     "output_type": "execute_result"
    }
   ],
   "source": [
    "data['index'] = data.index\n",
    "data.head()"
   ]
  },
  {
   "cell_type": "code",
   "execution_count": 152,
   "metadata": {},
   "outputs": [
    {
     "name": "stdout",
     "output_type": "stream",
     "text": [
      "--- 1.1600189208984375 seconds ---\n"
     ]
    }
   ],
   "source": [
    "import time\n",
    "start_time = time.time()\n",
    "datos_user_lage_review = data.merge(users_to_random, how='inner', on='user_id')#,right_index=True)\n",
    "print(\"--- %s seconds ---\" % (time.time() - start_time))"
   ]
  },
  {
   "cell_type": "code",
   "execution_count": 155,
   "metadata": {},
   "outputs": [
    {
     "name": "stdout",
     "output_type": "stream",
     "text": [
      "--- 10.152512073516846 seconds ---\n"
     ]
    }
   ],
   "source": [
    "import time\n",
    "start_time = time.time()\n",
    "datos_business_lage_review = data.merge(business_to_random, how='inner', on='business_id')#, right_index=True)\n",
    "print(\"--- %s seconds ---\" % (time.time() - start_time))"
   ]
  },
  {
   "cell_type": "markdown",
   "metadata": {},
   "source": [
    "### This append the rows from prolific reviewers and prolific business"
   ]
  },
  {
   "cell_type": "code",
   "execution_count": 159,
   "metadata": {},
   "outputs": [],
   "source": [
    "all_large = datos_business_lage_review.append(datos_user_lage_review)\n",
    "\n",
    "all_large_to_drop = all_large.drop_duplicates()"
   ]
  },
  {
   "cell_type": "markdown",
   "metadata": {},
   "source": [
    "# Dropping data from prolific reviewers and Business"
   ]
  },
  {
   "cell_type": "code",
   "execution_count": 172,
   "metadata": {},
   "outputs": [
    {
     "name": "stdout",
     "output_type": "stream",
     "text": [
      "--- 13.956459045410156 seconds ---\n"
     ]
    }
   ],
   "source": [
    "import time\n",
    "start_time = time.time()\n",
    "data=data.drop(all_large_to_drop['index'], axis = 0)\n",
    "#data=data.drop(datos_business_lage_review.index)\n",
    "print(\"--- %s seconds ---\" % (time.time() - start_time))"
   ]
  },
  {
   "cell_type": "code",
   "execution_count": 176,
   "metadata": {
    "scrolled": true
   },
   "outputs": [
    {
     "data": {
      "text/html": [
       "<div>\n",
       "<style scoped>\n",
       "    .dataframe tbody tr th:only-of-type {\n",
       "        vertical-align: middle;\n",
       "    }\n",
       "\n",
       "    .dataframe tbody tr th {\n",
       "        vertical-align: top;\n",
       "    }\n",
       "\n",
       "    .dataframe thead th {\n",
       "        text-align: right;\n",
       "    }\n",
       "</style>\n",
       "<table border=\"1\" class=\"dataframe\">\n",
       "  <thead>\n",
       "    <tr style=\"text-align: right;\">\n",
       "      <th></th>\n",
       "      <th>business_id</th>\n",
       "      <th>stars</th>\n",
       "      <th>text</th>\n",
       "      <th>user_id</th>\n",
       "    </tr>\n",
       "  </thead>\n",
       "  <tbody>\n",
       "    <tr>\n",
       "      <th>1</th>\n",
       "      <td>AEx2SYEUJmTxVVB18LlCwA</td>\n",
       "      <td>5</td>\n",
       "      <td>Super simple place but amazing nonetheless. It...</td>\n",
       "      <td>bv2nCi5Qv5vroFiqKGopiw</td>\n",
       "    </tr>\n",
       "    <tr>\n",
       "      <th>2</th>\n",
       "      <td>VR6GpWIda3SfvPC-lg9H3w</td>\n",
       "      <td>5</td>\n",
       "      <td>Small unassuming place that changes their menu...</td>\n",
       "      <td>bv2nCi5Qv5vroFiqKGopiw</td>\n",
       "    </tr>\n",
       "    <tr>\n",
       "      <th>3</th>\n",
       "      <td>CKC0-MOWMqoeWf6s-szl8g</td>\n",
       "      <td>5</td>\n",
       "      <td>Lester's is located in a beautiful neighborhoo...</td>\n",
       "      <td>bv2nCi5Qv5vroFiqKGopiw</td>\n",
       "    </tr>\n",
       "    <tr>\n",
       "      <th>4</th>\n",
       "      <td>ACFtxLv8pGrrxMm6EgjreA</td>\n",
       "      <td>4</td>\n",
       "      <td>Love coming here. Yes the place always needs t...</td>\n",
       "      <td>bv2nCi5Qv5vroFiqKGopiw</td>\n",
       "    </tr>\n",
       "    <tr>\n",
       "      <th>6</th>\n",
       "      <td>8QWPlVQ6D-OExqXoaD2Z1g</td>\n",
       "      <td>5</td>\n",
       "      <td>Cycle Pub Las Vegas was a blast! Got a groupon...</td>\n",
       "      <td>_4iMDXbXZ1p1ONG297YEAQ</td>\n",
       "    </tr>\n",
       "  </tbody>\n",
       "</table>\n",
       "</div>"
      ],
      "text/plain": [
       "              business_id stars  \\\n",
       "1  AEx2SYEUJmTxVVB18LlCwA     5   \n",
       "2  VR6GpWIda3SfvPC-lg9H3w     5   \n",
       "3  CKC0-MOWMqoeWf6s-szl8g     5   \n",
       "4  ACFtxLv8pGrrxMm6EgjreA     4   \n",
       "6  8QWPlVQ6D-OExqXoaD2Z1g     5   \n",
       "\n",
       "                                                text                 user_id  \n",
       "1  Super simple place but amazing nonetheless. It...  bv2nCi5Qv5vroFiqKGopiw  \n",
       "2  Small unassuming place that changes their menu...  bv2nCi5Qv5vroFiqKGopiw  \n",
       "3  Lester's is located in a beautiful neighborhoo...  bv2nCi5Qv5vroFiqKGopiw  \n",
       "4  Love coming here. Yes the place always needs t...  bv2nCi5Qv5vroFiqKGopiw  \n",
       "6  Cycle Pub Las Vegas was a blast! Got a groupon...  _4iMDXbXZ1p1ONG297YEAQ  "
      ]
     },
     "execution_count": 176,
     "metadata": {},
     "output_type": "execute_result"
    }
   ],
   "source": [
    "data=data.filter(items=['business_id','stars','text','user_id'])\n",
    "data.head()"
   ]
  },
  {
   "cell_type": "code",
   "execution_count": 178,
   "metadata": {},
   "outputs": [],
   "source": [
    "data.to_csv('./Full_data_before_random.csv')"
   ]
  },
  {
   "cell_type": "markdown",
   "metadata": {},
   "source": [
    "# Random Sample of 10,000 rows (2,500 by star)"
   ]
  },
  {
   "cell_type": "code",
   "execution_count": 179,
   "metadata": {
    "scrolled": true
   },
   "outputs": [],
   "source": [
    "import pandas as pd\n",
    "data_before_random = pd.read_csv('Full_data_before_random.csv')"
   ]
  },
  {
   "cell_type": "code",
   "execution_count": 180,
   "metadata": {},
   "outputs": [
    {
     "data": {
      "text/html": [
       "<div>\n",
       "<style scoped>\n",
       "    .dataframe tbody tr th:only-of-type {\n",
       "        vertical-align: middle;\n",
       "    }\n",
       "\n",
       "    .dataframe tbody tr th {\n",
       "        vertical-align: top;\n",
       "    }\n",
       "\n",
       "    .dataframe thead th {\n",
       "        text-align: right;\n",
       "    }\n",
       "</style>\n",
       "<table border=\"1\" class=\"dataframe\">\n",
       "  <thead>\n",
       "    <tr style=\"text-align: right;\">\n",
       "      <th></th>\n",
       "      <th>Unnamed: 0</th>\n",
       "      <th>business_id</th>\n",
       "      <th>stars</th>\n",
       "      <th>text</th>\n",
       "      <th>user_id</th>\n",
       "    </tr>\n",
       "  </thead>\n",
       "  <tbody>\n",
       "    <tr>\n",
       "      <th>0</th>\n",
       "      <td>1</td>\n",
       "      <td>AEx2SYEUJmTxVVB18LlCwA</td>\n",
       "      <td>5</td>\n",
       "      <td>Super simple place but amazing nonetheless. It...</td>\n",
       "      <td>bv2nCi5Qv5vroFiqKGopiw</td>\n",
       "    </tr>\n",
       "    <tr>\n",
       "      <th>1</th>\n",
       "      <td>2</td>\n",
       "      <td>VR6GpWIda3SfvPC-lg9H3w</td>\n",
       "      <td>5</td>\n",
       "      <td>Small unassuming place that changes their menu...</td>\n",
       "      <td>bv2nCi5Qv5vroFiqKGopiw</td>\n",
       "    </tr>\n",
       "    <tr>\n",
       "      <th>2</th>\n",
       "      <td>3</td>\n",
       "      <td>CKC0-MOWMqoeWf6s-szl8g</td>\n",
       "      <td>5</td>\n",
       "      <td>Lester's is located in a beautiful neighborhoo...</td>\n",
       "      <td>bv2nCi5Qv5vroFiqKGopiw</td>\n",
       "    </tr>\n",
       "    <tr>\n",
       "      <th>3</th>\n",
       "      <td>4</td>\n",
       "      <td>ACFtxLv8pGrrxMm6EgjreA</td>\n",
       "      <td>4</td>\n",
       "      <td>Love coming here. Yes the place always needs t...</td>\n",
       "      <td>bv2nCi5Qv5vroFiqKGopiw</td>\n",
       "    </tr>\n",
       "    <tr>\n",
       "      <th>4</th>\n",
       "      <td>6</td>\n",
       "      <td>8QWPlVQ6D-OExqXoaD2Z1g</td>\n",
       "      <td>5</td>\n",
       "      <td>Cycle Pub Las Vegas was a blast! Got a groupon...</td>\n",
       "      <td>_4iMDXbXZ1p1ONG297YEAQ</td>\n",
       "    </tr>\n",
       "  </tbody>\n",
       "</table>\n",
       "</div>"
      ],
      "text/plain": [
       "   Unnamed: 0             business_id  stars  \\\n",
       "0           1  AEx2SYEUJmTxVVB18LlCwA      5   \n",
       "1           2  VR6GpWIda3SfvPC-lg9H3w      5   \n",
       "2           3  CKC0-MOWMqoeWf6s-szl8g      5   \n",
       "3           4  ACFtxLv8pGrrxMm6EgjreA      4   \n",
       "4           6  8QWPlVQ6D-OExqXoaD2Z1g      5   \n",
       "\n",
       "                                                text                 user_id  \n",
       "0  Super simple place but amazing nonetheless. It...  bv2nCi5Qv5vroFiqKGopiw  \n",
       "1  Small unassuming place that changes their menu...  bv2nCi5Qv5vroFiqKGopiw  \n",
       "2  Lester's is located in a beautiful neighborhoo...  bv2nCi5Qv5vroFiqKGopiw  \n",
       "3  Love coming here. Yes the place always needs t...  bv2nCi5Qv5vroFiqKGopiw  \n",
       "4  Cycle Pub Las Vegas was a blast! Got a groupon...  _4iMDXbXZ1p1ONG297YEAQ  "
      ]
     },
     "execution_count": 180,
     "metadata": {},
     "output_type": "execute_result"
    }
   ],
   "source": [
    "data_before_random.head()"
   ]
  },
  {
   "cell_type": "code",
   "execution_count": 181,
   "metadata": {},
   "outputs": [],
   "source": [
    "data = data_before_random.filter(items=['business_id','stars','user_id','text'])"
   ]
  },
  {
   "cell_type": "markdown",
   "metadata": {},
   "source": [
    "This takes statistics of the new data"
   ]
  },
  {
   "cell_type": "code",
   "execution_count": 183,
   "metadata": {},
   "outputs": [],
   "source": [
    "data_one = data[data['stars']==1].sample(n=2500)\n",
    "data_two = data[data['stars']==2].sample(n=2500)\n",
    "data_four = data[data['stars']==4].sample(n=2500)\n",
    "data_five = data[data['stars']==5].sample(n=2500)\n",
    "\n",
    "new_data = data_one.append(data_two)\n",
    "new_data = new_data.append(data_four)\n",
    "new_data = new_data.append(data_five)"
   ]
  },
  {
   "cell_type": "code",
   "execution_count": 186,
   "metadata": {},
   "outputs": [
    {
     "data": {
      "text/plain": [
       "<matplotlib.axes._subplots.AxesSubplot at 0x15c1ae668>"
      ]
     },
     "execution_count": 186,
     "metadata": {},
     "output_type": "execute_result"
    },
    {
     "data": {
      "image/png": "[encoded data removed]",
      "text/plain": [
       "<matplotlib.figure.Figure at 0x15c1aea20>"
      ]
     },
     "metadata": {},
     "output_type": "display_data"
    }
   ],
   "source": [
    "new_data.plot.hist()"
   ]
  },
  {
   "cell_type": "code",
   "execution_count": 187,
   "metadata": {},
   "outputs": [],
   "source": [
    "new_data.to_csv('./new_data_balanced.csv')"
   ]
  },
  {
   "cell_type": "markdown",
   "metadata": {},
   "source": [
    "# BASELINE MODEL"
   ]
  },
  {
   "cell_type": "markdown",
   "metadata": {},
   "source": [
    "The baseline model takes a list of good and bad words and classify the comments based on the numbers of good vs the number of bad words in each comment. For example, if a comment has 20 'good' words and 15 'bad' words, it is classified as a good comment.\n",
    "\n",
    "For testing accuracy, we are taking bad comments as comments with one and two stars and good comments those with four and five stars."
   ]
  },
  {
   "cell_type": "code",
   "execution_count": 1,
   "metadata": {
    "scrolled": true
   },
   "outputs": [],
   "source": [
    "import pandas as pd\n",
    "data = pd.read_csv('new_data_balanced.csv')\n",
    "\n",
    "data = data.filter(['business_id','stars','user_id','text'])\n",
    "data.head()"
   ]
  },
  {
   "cell_type": "markdown",
   "metadata": {},
   "source": [
    "## Descriptive Statistics"
   ]
  },
  {
   "cell_type": "code",
   "execution_count": 8,
   "metadata": {},
   "outputs": [
    {
     "name": "stdout",
     "output_type": "stream",
     "text": [
      "    Count_Reviews  Percentile  Sum_reviews\n",
      "0             1.0           1           98\n",
      "1             1.0           2          197\n",
      "2             1.0           3          295\n",
      "3             1.0           4          394\n",
      "4             1.0           5          492\n",
      "5             1.0           6          591\n",
      "6             1.0           7          690\n",
      "7             1.0           8          788\n",
      "8             1.0           9          887\n",
      "9             1.0          10          985\n",
      "10            1.0          11         1084\n",
      "11            1.0          12         1182\n",
      "12            1.0          13         1281\n",
      "13            1.0          14         1380\n",
      "14            1.0          15         1478\n",
      "15            1.0          16         1577\n",
      "16            1.0          17         1675\n",
      "17            1.0          18         1774\n",
      "18            1.0          19         1873\n",
      "19            1.0          20         1971\n",
      "20            1.0          21         2070\n",
      "21            1.0          22         2168\n",
      "22            1.0          23         2267\n",
      "23            1.0          24         2365\n",
      "24            1.0          25         2464\n",
      "25            1.0          26         2563\n",
      "26            1.0          27         2661\n",
      "27            1.0          28         2760\n",
      "28            1.0          29         2858\n",
      "29            1.0          30         2957\n",
      "..            ...         ...          ...\n",
      "70            1.0          71         6999\n",
      "71            1.0          72         7097\n",
      "72            1.0          73         7196\n",
      "73            1.0          74         7294\n",
      "74            1.0          75         7393\n",
      "75            1.0          76         7492\n",
      "76            1.0          77         7590\n",
      "77            1.0          78         7689\n",
      "78            1.0          79         7787\n",
      "79            1.0          80         7886\n",
      "80            1.0          81         7984\n",
      "81            1.0          82         8083\n",
      "82            1.0          83         8182\n",
      "83            1.0          84         8280\n",
      "84            1.0          85         8379\n",
      "85            1.0          86         8477\n",
      "86            1.0          87         8576\n",
      "87            1.0          88         8675\n",
      "88            1.0          89         8773\n",
      "89            1.0          90         8872\n",
      "90            1.0          91         8970\n",
      "91            1.0          92         9069\n",
      "92            1.0          93         9167\n",
      "93            1.0          94         9266\n",
      "94            1.0          95         9365\n",
      "95            1.0          96         9463\n",
      "96            1.0          97         9562\n",
      "97            1.0          98         9660\n",
      "98            2.0          99         9800\n",
      "99            3.0         100        10000\n",
      "\n",
      "[100 rows x 3 columns]\n",
      "0.2834920883178711\n"
     ]
    },
    {
     "data": {
      "image/png": "[encoded data removed]",
      "text/plain": [
       "<matplotlib.figure.Figure at 0x110cdabe0>"
      ]
     },
     "metadata": {},
     "output_type": "display_data"
    }
   ],
   "source": [
    "percentiles_user_final = percentiles('user_id','stars', data, 100)\n",
    "percentiles_user_final.to_csv('percentiles_user_final.csv')"
   ]
  },
  {
   "cell_type": "code",
   "execution_count": 10,
   "metadata": {},
   "outputs": [
    {
     "name": "stdout",
     "output_type": "stream",
     "text": [
      "    Count_Reviews  Percentile  Sum_reviews\n",
      "0             1.0           1           92\n",
      "1             1.0           2          184\n",
      "2             1.0           3          277\n",
      "3             1.0           4          369\n",
      "4             1.0           5          462\n",
      "5             1.0           6          554\n",
      "6             1.0           7          647\n",
      "7             1.0           8          739\n",
      "8             1.0           9          832\n",
      "9             1.0          10          924\n",
      "10            1.0          11         1016\n",
      "11            1.0          12         1109\n",
      "12            1.0          13         1201\n",
      "13            1.0          14         1294\n",
      "14            1.0          15         1386\n",
      "15            1.0          16         1479\n",
      "16            1.0          17         1571\n",
      "17            1.0          18         1664\n",
      "18            1.0          19         1756\n",
      "19            1.0          20         1849\n",
      "20            1.0          21         1941\n",
      "21            1.0          22         2033\n",
      "22            1.0          23         2126\n",
      "23            1.0          24         2218\n",
      "24            1.0          25         2311\n",
      "25            1.0          26         2403\n",
      "26            1.0          27         2496\n",
      "27            1.0          28         2588\n",
      "28            1.0          29         2681\n",
      "29            1.0          30         2773\n",
      "..            ...         ...          ...\n",
      "70            1.0          71         6563\n",
      "71            1.0          72         6656\n",
      "72            1.0          73         6748\n",
      "73            1.0          74         6841\n",
      "74            1.0          75         6933\n",
      "75            1.0          76         7026\n",
      "76            1.0          77         7118\n",
      "77            1.0          78         7211\n",
      "78            1.0          79         7303\n",
      "79            1.0          80         7396\n",
      "80            1.0          81         7488\n",
      "81            1.0          82         7580\n",
      "82            1.0          83         7673\n",
      "83            1.0          84         7765\n",
      "84            1.0          85         7858\n",
      "85            1.0          86         7950\n",
      "86            1.0          87         8043\n",
      "87            1.0          88         8135\n",
      "88            1.0          89         8228\n",
      "89            1.0          90         8320\n",
      "90            1.0          91         8412\n",
      "91            1.0          92         8505\n",
      "92            2.0          93         8649\n",
      "93            2.0          94         8835\n",
      "94            2.0          95         9019\n",
      "95            2.0          96         9205\n",
      "96            2.0          97         9389\n",
      "97            2.0          98         9575\n",
      "98            2.0          99         9759\n",
      "99            4.0         100        10000\n",
      "\n",
      "[100 rows x 3 columns]\n",
      "0.27178478240966797\n"
     ]
    },
    {
     "data": {
      "image/png": "[encoded data removed]",
      "text/plain": [
       "<matplotlib.figure.Figure at 0x110c8fef0>"
      ]
     },
     "metadata": {},
     "output_type": "display_data"
    }
   ],
   "source": [
    "percentiles_business_final = percentiles('business_id','stars', data, 100)\n",
    "percentiles_business_final.to_csv('percentiles_business_final.csv')"
   ]
  },
  {
   "cell_type": "code",
   "execution_count": 40,
   "metadata": {},
   "outputs": [],
   "source": [
    "grouped_user_final = data.groupby('user_id')\n",
    "reviews_user_final = grouped_user_final.count().sort_values(by='stars', ascending = False)  ## Counts of reviews per business\n",
    "reviews_user_final.iloc[:,1].to_csv('final_reviews_per_user_tableau.csv')\n",
    "\n",
    "grouped_business_final = data.groupby('business_id')\n",
    "reviews_business_final = grouped_business_final.count().sort_values(by='stars', ascending = False)  ## Counts of reviews per business\n",
    "reviews_business_final.iloc[:,1].to_csv('final_reviews_per_business_tableau.csv')\n"
   ]
  },
  {
   "cell_type": "markdown",
   "metadata": {},
   "source": [
    "## Modeling"
   ]
  },
  {
   "cell_type": "code",
   "execution_count": 3,
   "metadata": {},
   "outputs": [],
   "source": [
    "data = data.reset_index()\n",
    "\n",
    "data = data.filter(items=['stars','text'])\n",
    "\n",
    "negative = pd.read_csv('./Words_classifier/lexicon/negative-wordscopy.txt', encoding=\"ISO-8859-1\", header = None)\n",
    "positive = pd.read_csv('./Words_classifier/lexicon/positive-wordscopy.txt', encoding=\"ISO-8859-1\", header = None)\n",
    "\n",
    "for i in range(len(data)):\n",
    "    data.iloc[i,1] = data.iloc[i,1].lower()\n",
    "\n",
    "data['prediction'] = -1\n",
    "data['net_sum'] = 0"
   ]
  },
  {
   "cell_type": "code",
   "execution_count": 13,
   "metadata": {},
   "outputs": [
    {
     "name": "stdout",
     "output_type": "stream",
     "text": [
      "644.1976940631866\n"
     ]
    }
   ],
   "source": [
    "import time\n",
    "start_time = time.time()\n",
    "for i in range(len(data)):\n",
    "    #print(i)\n",
    "    net_sum_pos_neg = sum(data.iloc[i,1].count(x) for x in positive[0]) - sum(data.iloc[i,1].count(x) for x in negative[0]) \n",
    "    data.iloc[i,3] = net_sum_pos_neg\n",
    "    if net_sum_pos_neg < 0:\n",
    "        data.iloc[i,2] = 0\n",
    "    elif net_sum_pos_neg > 0:\n",
    "        data.iloc[i,2] = 1\n",
    "\n",
    "print(time.time()-start_time)"
   ]
  },
  {
   "cell_type": "markdown",
   "metadata": {},
   "source": [
    "## Examples of Classification Baseline"
   ]
  },
  {
   "cell_type": "code",
   "execution_count": 36,
   "metadata": {},
   "outputs": [
    {
     "data": {
      "text/html": [
       "<div>\n",
       "<style scoped>\n",
       "    .dataframe tbody tr th:only-of-type {\n",
       "        vertical-align: middle;\n",
       "    }\n",
       "\n",
       "    .dataframe tbody tr th {\n",
       "        vertical-align: top;\n",
       "    }\n",
       "\n",
       "    .dataframe thead th {\n",
       "        text-align: right;\n",
       "    }\n",
       "</style>\n",
       "<table border=\"1\" class=\"dataframe\">\n",
       "  <thead>\n",
       "    <tr style=\"text-align: right;\">\n",
       "      <th></th>\n",
       "      <th>stars</th>\n",
       "      <th>text</th>\n",
       "      <th>prediction</th>\n",
       "      <th>net_sum</th>\n",
       "      <th>sentiment</th>\n",
       "    </tr>\n",
       "  </thead>\n",
       "  <tbody>\n",
       "    <tr>\n",
       "      <th>2207</th>\n",
       "      <td>1</td>\n",
       "      <td>i don't understand the rave reviews about this...</td>\n",
       "      <td>0</td>\n",
       "      <td>-75</td>\n",
       "      <td>0</td>\n",
       "    </tr>\n",
       "    <tr>\n",
       "      <th>1671</th>\n",
       "      <td>1</td>\n",
       "      <td>i am only writing this review because i have g...</td>\n",
       "      <td>0</td>\n",
       "      <td>-70</td>\n",
       "      <td>0</td>\n",
       "    </tr>\n",
       "    <tr>\n",
       "      <th>2989</th>\n",
       "      <td>2</td>\n",
       "      <td>allgemein\\r\\nuna storia italiana noioso\\r\\nunp...</td>\n",
       "      <td>0</td>\n",
       "      <td>-70</td>\n",
       "      <td>0</td>\n",
       "    </tr>\n",
       "    <tr>\n",
       "      <th>2402</th>\n",
       "      <td>1</td>\n",
       "      <td>bottom line if you don't read the rest: the co...</td>\n",
       "      <td>0</td>\n",
       "      <td>-67</td>\n",
       "      <td>0</td>\n",
       "    </tr>\n",
       "    <tr>\n",
       "      <th>399</th>\n",
       "      <td>1</td>\n",
       "      <td>please i repeat please do not take your car he...</td>\n",
       "      <td>0</td>\n",
       "      <td>-64</td>\n",
       "      <td>0</td>\n",
       "    </tr>\n",
       "  </tbody>\n",
       "</table>\n",
       "</div>"
      ],
      "text/plain": [
       "      stars                                               text  prediction  \\\n",
       "2207      1  i don't understand the rave reviews about this...           0   \n",
       "1671      1  i am only writing this review because i have g...           0   \n",
       "2989      2  allgemein\\r\\nuna storia italiana noioso\\r\\nunp...           0   \n",
       "2402      1  bottom line if you don't read the rest: the co...           0   \n",
       "399       1  please i repeat please do not take your car he...           0   \n",
       "\n",
       "      net_sum  sentiment  \n",
       "2207      -75          0  \n",
       "1671      -70          0  \n",
       "2989      -70          0  \n",
       "2402      -67          0  \n",
       "399       -64          0  "
      ]
     },
     "execution_count": 36,
     "metadata": {},
     "output_type": "execute_result"
    }
   ],
   "source": [
    "a1=data.sort_values(by=['net_sum']).head()\n",
    "a1"
   ]
  },
  {
   "cell_type": "code",
   "execution_count": 37,
   "metadata": {},
   "outputs": [
    {
     "data": {
      "text/html": [
       "<div>\n",
       "<style scoped>\n",
       "    .dataframe tbody tr th:only-of-type {\n",
       "        vertical-align: middle;\n",
       "    }\n",
       "\n",
       "    .dataframe tbody tr th {\n",
       "        vertical-align: top;\n",
       "    }\n",
       "\n",
       "    .dataframe thead th {\n",
       "        text-align: right;\n",
       "    }\n",
       "</style>\n",
       "<table border=\"1\" class=\"dataframe\">\n",
       "  <thead>\n",
       "    <tr style=\"text-align: right;\">\n",
       "      <th></th>\n",
       "      <th>stars</th>\n",
       "      <th>text</th>\n",
       "      <th>prediction</th>\n",
       "      <th>net_sum</th>\n",
       "      <th>sentiment</th>\n",
       "    </tr>\n",
       "  </thead>\n",
       "  <tbody>\n",
       "    <tr>\n",
       "      <th>5171</th>\n",
       "      <td>4</td>\n",
       "      <td>4.5/5. \\r\\n\\r\\ni have been seeing this place o...</td>\n",
       "      <td>1</td>\n",
       "      <td>32</td>\n",
       "      <td>1</td>\n",
       "    </tr>\n",
       "    <tr>\n",
       "      <th>7730</th>\n",
       "      <td>5</td>\n",
       "      <td>wow! first-class service!\\r\\nwhen my daughter'...</td>\n",
       "      <td>1</td>\n",
       "      <td>31</td>\n",
       "      <td>1</td>\n",
       "    </tr>\n",
       "    <tr>\n",
       "      <th>8704</th>\n",
       "      <td>5</td>\n",
       "      <td>what an amazing place!!!  i will start off by ...</td>\n",
       "      <td>1</td>\n",
       "      <td>28</td>\n",
       "      <td>1</td>\n",
       "    </tr>\n",
       "    <tr>\n",
       "      <th>5884</th>\n",
       "      <td>4</td>\n",
       "      <td>fantastic, lively atmosphere with excellent fo...</td>\n",
       "      <td>1</td>\n",
       "      <td>27</td>\n",
       "      <td>1</td>\n",
       "    </tr>\n",
       "    <tr>\n",
       "      <th>6198</th>\n",
       "      <td>4</td>\n",
       "      <td>i decided to try the bikram yoga studio in pho...</td>\n",
       "      <td>1</td>\n",
       "      <td>27</td>\n",
       "      <td>1</td>\n",
       "    </tr>\n",
       "  </tbody>\n",
       "</table>\n",
       "</div>"
      ],
      "text/plain": [
       "      stars                                               text  prediction  \\\n",
       "5171      4  4.5/5. \\r\\n\\r\\ni have been seeing this place o...           1   \n",
       "7730      5  wow! first-class service!\\r\\nwhen my daughter'...           1   \n",
       "8704      5  what an amazing place!!!  i will start off by ...           1   \n",
       "5884      4  fantastic, lively atmosphere with excellent fo...           1   \n",
       "6198      4  i decided to try the bikram yoga studio in pho...           1   \n",
       "\n",
       "      net_sum  sentiment  \n",
       "5171       32          1  \n",
       "7730       31          1  \n",
       "8704       28          1  \n",
       "5884       27          1  \n",
       "6198       27          1  "
      ]
     },
     "execution_count": 37,
     "metadata": {},
     "output_type": "execute_result"
    }
   ],
   "source": [
    "a2=data.sort_values(by=['net_sum'], ascending = False).head()\n",
    "a2"
   ]
  },
  {
   "cell_type": "code",
   "execution_count": 38,
   "metadata": {},
   "outputs": [
    {
     "data": {
      "text/html": [
       "<div>\n",
       "<style scoped>\n",
       "    .dataframe tbody tr th:only-of-type {\n",
       "        vertical-align: middle;\n",
       "    }\n",
       "\n",
       "    .dataframe tbody tr th {\n",
       "        vertical-align: top;\n",
       "    }\n",
       "\n",
       "    .dataframe thead th {\n",
       "        text-align: right;\n",
       "    }\n",
       "</style>\n",
       "<table border=\"1\" class=\"dataframe\">\n",
       "  <thead>\n",
       "    <tr style=\"text-align: right;\">\n",
       "      <th></th>\n",
       "      <th>stars</th>\n",
       "      <th>text</th>\n",
       "      <th>prediction</th>\n",
       "      <th>net_sum</th>\n",
       "      <th>sentiment</th>\n",
       "    </tr>\n",
       "  </thead>\n",
       "  <tbody>\n",
       "    <tr>\n",
       "      <th>18</th>\n",
       "      <td>1</td>\n",
       "      <td>i had a change in my insurance at the beginnin...</td>\n",
       "      <td>-1</td>\n",
       "      <td>0</td>\n",
       "      <td>0</td>\n",
       "    </tr>\n",
       "    <tr>\n",
       "      <th>40</th>\n",
       "      <td>1</td>\n",
       "      <td>we put in a prescription for our two-month-old...</td>\n",
       "      <td>-1</td>\n",
       "      <td>0</td>\n",
       "      <td>0</td>\n",
       "    </tr>\n",
       "  </tbody>\n",
       "</table>\n",
       "</div>"
      ],
      "text/plain": [
       "    stars                                               text  prediction  \\\n",
       "18      1  i had a change in my insurance at the beginnin...          -1   \n",
       "40      1  we put in a prescription for our two-month-old...          -1   \n",
       "\n",
       "    net_sum  sentiment  \n",
       "18        0          0  \n",
       "40        0          0  "
      ]
     },
     "execution_count": 38,
     "metadata": {},
     "output_type": "execute_result"
    }
   ],
   "source": [
    "a3=data.loc[data['net_sum'] == 0,:].head(2)\n",
    "a3"
   ]
  },
  {
   "cell_type": "code",
   "execution_count": 39,
   "metadata": {},
   "outputs": [
    {
     "data": {
      "text/html": [
       "<div>\n",
       "<style scoped>\n",
       "    .dataframe tbody tr th:only-of-type {\n",
       "        vertical-align: middle;\n",
       "    }\n",
       "\n",
       "    .dataframe tbody tr th {\n",
       "        vertical-align: top;\n",
       "    }\n",
       "\n",
       "    .dataframe thead th {\n",
       "        text-align: right;\n",
       "    }\n",
       "</style>\n",
       "<table border=\"1\" class=\"dataframe\">\n",
       "  <thead>\n",
       "    <tr style=\"text-align: right;\">\n",
       "      <th></th>\n",
       "      <th>stars</th>\n",
       "      <th>text</th>\n",
       "      <th>prediction</th>\n",
       "      <th>net_sum</th>\n",
       "      <th>sentiment</th>\n",
       "    </tr>\n",
       "  </thead>\n",
       "  <tbody>\n",
       "    <tr>\n",
       "      <th>9973</th>\n",
       "      <td>5</td>\n",
       "      <td>i had a very negative experience with an unrep...</td>\n",
       "      <td>-1</td>\n",
       "      <td>0</td>\n",
       "      <td>1</td>\n",
       "    </tr>\n",
       "    <tr>\n",
       "      <th>9991</th>\n",
       "      <td>5</td>\n",
       "      <td>fashion starts here. highly underrated boutiqu...</td>\n",
       "      <td>-1</td>\n",
       "      <td>0</td>\n",
       "      <td>1</td>\n",
       "    </tr>\n",
       "  </tbody>\n",
       "</table>\n",
       "</div>"
      ],
      "text/plain": [
       "      stars                                               text  prediction  \\\n",
       "9973      5  i had a very negative experience with an unrep...          -1   \n",
       "9991      5  fashion starts here. highly underrated boutiqu...          -1   \n",
       "\n",
       "      net_sum  sentiment  \n",
       "9973        0          1  \n",
       "9991        0          1  "
      ]
     },
     "execution_count": 39,
     "metadata": {},
     "output_type": "execute_result"
    }
   ],
   "source": [
    "a4=data.loc[data['net_sum'] == 0,:].tail(2)\n",
    "a4"
   ]
  },
  {
   "cell_type": "code",
   "execution_count": 46,
   "metadata": {},
   "outputs": [
    {
     "data": {
      "text/html": [
       "<div>\n",
       "<style scoped>\n",
       "    .dataframe tbody tr th:only-of-type {\n",
       "        vertical-align: middle;\n",
       "    }\n",
       "\n",
       "    .dataframe tbody tr th {\n",
       "        vertical-align: top;\n",
       "    }\n",
       "\n",
       "    .dataframe thead th {\n",
       "        text-align: right;\n",
       "    }\n",
       "</style>\n",
       "<table border=\"1\" class=\"dataframe\">\n",
       "  <thead>\n",
       "    <tr style=\"text-align: right;\">\n",
       "      <th></th>\n",
       "      <th>stars</th>\n",
       "      <th>text</th>\n",
       "      <th>prediction</th>\n",
       "      <th>net_sum</th>\n",
       "      <th>sentiment</th>\n",
       "    </tr>\n",
       "  </thead>\n",
       "  <tbody>\n",
       "    <tr>\n",
       "      <th>5171</th>\n",
       "      <td>4</td>\n",
       "      <td>4.5/5. \\r\\n\\r\\ni have been seeing this place o...</td>\n",
       "      <td>1</td>\n",
       "      <td>32</td>\n",
       "      <td>1</td>\n",
       "    </tr>\n",
       "    <tr>\n",
       "      <th>7730</th>\n",
       "      <td>5</td>\n",
       "      <td>wow! first-class service!\\r\\nwhen my daughter'...</td>\n",
       "      <td>1</td>\n",
       "      <td>31</td>\n",
       "      <td>1</td>\n",
       "    </tr>\n",
       "    <tr>\n",
       "      <th>8704</th>\n",
       "      <td>5</td>\n",
       "      <td>what an amazing place!!!  i will start off by ...</td>\n",
       "      <td>1</td>\n",
       "      <td>28</td>\n",
       "      <td>1</td>\n",
       "    </tr>\n",
       "    <tr>\n",
       "      <th>5884</th>\n",
       "      <td>4</td>\n",
       "      <td>fantastic, lively atmosphere with excellent fo...</td>\n",
       "      <td>1</td>\n",
       "      <td>27</td>\n",
       "      <td>1</td>\n",
       "    </tr>\n",
       "    <tr>\n",
       "      <th>6198</th>\n",
       "      <td>4</td>\n",
       "      <td>i decided to try the bikram yoga studio in pho...</td>\n",
       "      <td>1</td>\n",
       "      <td>27</td>\n",
       "      <td>1</td>\n",
       "    </tr>\n",
       "    <tr>\n",
       "      <th>18</th>\n",
       "      <td>1</td>\n",
       "      <td>i had a change in my insurance at the beginnin...</td>\n",
       "      <td>-1</td>\n",
       "      <td>0</td>\n",
       "      <td>0</td>\n",
       "    </tr>\n",
       "    <tr>\n",
       "      <th>40</th>\n",
       "      <td>1</td>\n",
       "      <td>we put in a prescription for our two-month-old...</td>\n",
       "      <td>-1</td>\n",
       "      <td>0</td>\n",
       "      <td>0</td>\n",
       "    </tr>\n",
       "    <tr>\n",
       "      <th>9973</th>\n",
       "      <td>5</td>\n",
       "      <td>i had a very negative experience with an unrep...</td>\n",
       "      <td>-1</td>\n",
       "      <td>0</td>\n",
       "      <td>1</td>\n",
       "    </tr>\n",
       "    <tr>\n",
       "      <th>9991</th>\n",
       "      <td>5</td>\n",
       "      <td>fashion starts here. highly underrated boutiqu...</td>\n",
       "      <td>-1</td>\n",
       "      <td>0</td>\n",
       "      <td>1</td>\n",
       "    </tr>\n",
       "    <tr>\n",
       "      <th>2207</th>\n",
       "      <td>1</td>\n",
       "      <td>i don't understand the rave reviews about this...</td>\n",
       "      <td>0</td>\n",
       "      <td>-75</td>\n",
       "      <td>0</td>\n",
       "    </tr>\n",
       "    <tr>\n",
       "      <th>1671</th>\n",
       "      <td>1</td>\n",
       "      <td>i am only writing this review because i have g...</td>\n",
       "      <td>0</td>\n",
       "      <td>-70</td>\n",
       "      <td>0</td>\n",
       "    </tr>\n",
       "    <tr>\n",
       "      <th>2989</th>\n",
       "      <td>2</td>\n",
       "      <td>allgemein\\r\\nuna storia italiana noioso\\r\\nunp...</td>\n",
       "      <td>0</td>\n",
       "      <td>-70</td>\n",
       "      <td>0</td>\n",
       "    </tr>\n",
       "    <tr>\n",
       "      <th>2402</th>\n",
       "      <td>1</td>\n",
       "      <td>bottom line if you don't read the rest: the co...</td>\n",
       "      <td>0</td>\n",
       "      <td>-67</td>\n",
       "      <td>0</td>\n",
       "    </tr>\n",
       "    <tr>\n",
       "      <th>399</th>\n",
       "      <td>1</td>\n",
       "      <td>please i repeat please do not take your car he...</td>\n",
       "      <td>0</td>\n",
       "      <td>-64</td>\n",
       "      <td>0</td>\n",
       "    </tr>\n",
       "  </tbody>\n",
       "</table>\n",
       "</div>"
      ],
      "text/plain": [
       "      stars                                               text  prediction  \\\n",
       "5171      4  4.5/5. \\r\\n\\r\\ni have been seeing this place o...           1   \n",
       "7730      5  wow! first-class service!\\r\\nwhen my daughter'...           1   \n",
       "8704      5  what an amazing place!!!  i will start off by ...           1   \n",
       "5884      4  fantastic, lively atmosphere with excellent fo...           1   \n",
       "6198      4  i decided to try the bikram yoga studio in pho...           1   \n",
       "18        1  i had a change in my insurance at the beginnin...          -1   \n",
       "40        1  we put in a prescription for our two-month-old...          -1   \n",
       "9973      5  i had a very negative experience with an unrep...          -1   \n",
       "9991      5  fashion starts here. highly underrated boutiqu...          -1   \n",
       "2207      1  i don't understand the rave reviews about this...           0   \n",
       "1671      1  i am only writing this review because i have g...           0   \n",
       "2989      2  allgemein\\r\\nuna storia italiana noioso\\r\\nunp...           0   \n",
       "2402      1  bottom line if you don't read the rest: the co...           0   \n",
       "399       1  please i repeat please do not take your car he...           0   \n",
       "\n",
       "      net_sum  sentiment  \n",
       "5171       32          1  \n",
       "7730       31          1  \n",
       "8704       28          1  \n",
       "5884       27          1  \n",
       "6198       27          1  \n",
       "18          0          0  \n",
       "40          0          0  \n",
       "9973        0          1  \n",
       "9991        0          1  \n",
       "2207      -75          0  \n",
       "1671      -70          0  \n",
       "2989      -70          0  \n",
       "2402      -67          0  \n",
       "399       -64          0  "
      ]
     },
     "execution_count": 46,
     "metadata": {},
     "output_type": "execute_result"
    }
   ],
   "source": [
    "baseline = a2.append(a3)\n",
    "baseline = baseline.append(a4)\n",
    "baseline = baseline.append(a1)\n",
    "baseline.to_csv('examples_baseline_tableau.csv')\n",
    "baseline"
   ]
  },
  {
   "cell_type": "code",
   "execution_count": 78,
   "metadata": {},
   "outputs": [
    {
     "data": {
      "text/html": [
       "<div>\n",
       "<style scoped>\n",
       "    .dataframe tbody tr th:only-of-type {\n",
       "        vertical-align: middle;\n",
       "    }\n",
       "\n",
       "    .dataframe tbody tr th {\n",
       "        vertical-align: top;\n",
       "    }\n",
       "\n",
       "    .dataframe thead th {\n",
       "        text-align: right;\n",
       "    }\n",
       "</style>\n",
       "<table border=\"1\" class=\"dataframe\">\n",
       "  <thead>\n",
       "    <tr style=\"text-align: right;\">\n",
       "      <th></th>\n",
       "      <th>stars</th>\n",
       "      <th>text</th>\n",
       "      <th>prediction</th>\n",
       "      <th>net_sum</th>\n",
       "      <th>sentiment</th>\n",
       "    </tr>\n",
       "  </thead>\n",
       "  <tbody>\n",
       "    <tr>\n",
       "      <th>5133</th>\n",
       "      <td>4</td>\n",
       "      <td>the supper club experience at buonanotte is a ...</td>\n",
       "      <td>0</td>\n",
       "      <td>-30</td>\n",
       "      <td>1</td>\n",
       "    </tr>\n",
       "    <tr>\n",
       "      <th>6724</th>\n",
       "      <td>4</td>\n",
       "      <td>wir sind ein kleinunternehmen und besuchten au...</td>\n",
       "      <td>0</td>\n",
       "      <td>-23</td>\n",
       "      <td>1</td>\n",
       "    </tr>\n",
       "    <tr>\n",
       "      <th>7295</th>\n",
       "      <td>4</td>\n",
       "      <td>where do i start. i say the deals on facebook ...</td>\n",
       "      <td>0</td>\n",
       "      <td>-26</td>\n",
       "      <td>1</td>\n",
       "    </tr>\n",
       "    <tr>\n",
       "      <th>7494</th>\n",
       "      <td>4</td>\n",
       "      <td>unsere letzte bewertung für die taverna yol vo...</td>\n",
       "      <td>0</td>\n",
       "      <td>-50</td>\n",
       "      <td>1</td>\n",
       "    </tr>\n",
       "  </tbody>\n",
       "</table>\n",
       "</div>"
      ],
      "text/plain": [
       "      stars                                               text  prediction  \\\n",
       "5133      4  the supper club experience at buonanotte is a ...           0   \n",
       "6724      4  wir sind ein kleinunternehmen und besuchten au...           0   \n",
       "7295      4  where do i start. i say the deals on facebook ...           0   \n",
       "7494      4  unsere letzte bewertung für die taverna yol vo...           0   \n",
       "\n",
       "      net_sum  sentiment  \n",
       "5133      -30          1  \n",
       "6724      -23          1  \n",
       "7295      -26          1  \n",
       "7494      -50          1  "
      ]
     },
     "execution_count": 78,
     "metadata": {},
     "output_type": "execute_result"
    }
   ],
   "source": [
    "#c = data.sort_values(by=['net_sum'])\n",
    "e1 = data.loc[((data['sentiment'] == 1) & (data['net_sum'] < -22)),:]\n",
    "e1"
   ]
  },
  {
   "cell_type": "code",
   "execution_count": 79,
   "metadata": {},
   "outputs": [
    {
     "data": {
      "text/html": [
       "<div>\n",
       "<style scoped>\n",
       "    .dataframe tbody tr th:only-of-type {\n",
       "        vertical-align: middle;\n",
       "    }\n",
       "\n",
       "    .dataframe tbody tr th {\n",
       "        vertical-align: top;\n",
       "    }\n",
       "\n",
       "    .dataframe thead th {\n",
       "        text-align: right;\n",
       "    }\n",
       "</style>\n",
       "<table border=\"1\" class=\"dataframe\">\n",
       "  <thead>\n",
       "    <tr style=\"text-align: right;\">\n",
       "      <th></th>\n",
       "      <th>stars</th>\n",
       "      <th>text</th>\n",
       "      <th>prediction</th>\n",
       "      <th>net_sum</th>\n",
       "      <th>sentiment</th>\n",
       "    </tr>\n",
       "  </thead>\n",
       "  <tbody>\n",
       "    <tr>\n",
       "      <th>4267</th>\n",
       "      <td>2</td>\n",
       "      <td>in theory it's a good idea. a cheerful little ...</td>\n",
       "      <td>1</td>\n",
       "      <td>20</td>\n",
       "      <td>0</td>\n",
       "    </tr>\n",
       "    <tr>\n",
       "      <th>4582</th>\n",
       "      <td>2</td>\n",
       "      <td>i love cupcrazed! their amazing, in fort mill....</td>\n",
       "      <td>1</td>\n",
       "      <td>18</td>\n",
       "      <td>0</td>\n",
       "    </tr>\n",
       "  </tbody>\n",
       "</table>\n",
       "</div>"
      ],
      "text/plain": [
       "      stars                                               text  prediction  \\\n",
       "4267      2  in theory it's a good idea. a cheerful little ...           1   \n",
       "4582      2  i love cupcrazed! their amazing, in fort mill....           1   \n",
       "\n",
       "      net_sum  sentiment  \n",
       "4267       20          0  \n",
       "4582       18          0  "
      ]
     },
     "execution_count": 79,
     "metadata": {},
     "output_type": "execute_result"
    }
   ],
   "source": [
    "e2 = data.loc[((data['sentiment'] == 0) & (data['net_sum'] > 14)),:]\n",
    "e2"
   ]
  },
  {
   "cell_type": "code",
   "execution_count": 81,
   "metadata": {},
   "outputs": [],
   "source": [
    "# Misclassification Examples\n",
    "e1.append(e2).to_csv('examples_misclassification_baseline_tableu.csv')\n",
    "\n",
    "data['sentiment'] = 0\n",
    "\n",
    "for i in range(len(data)):\n",
    "    if data.iloc[i,0] == 1 or data.iloc[i,0] == 2:\n",
    "        data.iloc[i,4] = 0\n",
    "    else:\n",
    "        data.iloc[i,4] = 1"
   ]
  },
  {
   "cell_type": "markdown",
   "metadata": {},
   "source": [
    "Neutral comments"
   ]
  },
  {
   "cell_type": "code",
   "execution_count": 15,
   "metadata": {
    "scrolled": true
   },
   "outputs": [
    {
     "data": {
      "text/plain": [
       "704"
      ]
     },
     "execution_count": 15,
     "metadata": {},
     "output_type": "execute_result"
    }
   ],
   "source": [
    "data_not_classified = data[data['prediction']==-1]\n",
    "len(data_not_classified)"
   ]
  },
  {
   "cell_type": "code",
   "execution_count": 16,
   "metadata": {
    "scrolled": true
   },
   "outputs": [
    {
     "data": {
      "text/plain": [
       "count    704.000000\n",
       "mean       0.475852\n",
       "std        0.499772\n",
       "min        0.000000\n",
       "25%        0.000000\n",
       "50%        0.000000\n",
       "75%        1.000000\n",
       "max        1.000000\n",
       "Name: sentiment, dtype: float64"
      ]
     },
     "execution_count": 16,
     "metadata": {},
     "output_type": "execute_result"
    }
   ],
   "source": [
    "data_not_classified['sentiment'].describe()"
   ]
  },
  {
   "cell_type": "markdown",
   "metadata": {},
   "source": [
    "Accuracy over all the sample"
   ]
  },
  {
   "cell_type": "code",
   "execution_count": 17,
   "metadata": {},
   "outputs": [
    {
     "data": {
      "text/plain": [
       "0.7271"
      ]
     },
     "execution_count": 17,
     "metadata": {},
     "output_type": "execute_result"
    }
   ],
   "source": [
    "from sklearn.metrics import accuracy_score\n",
    "accuracy_score(data['sentiment'], data['prediction'])"
   ]
  },
  {
   "cell_type": "markdown",
   "metadata": {},
   "source": [
    "Accuracy over only non-neutral"
   ]
  },
  {
   "cell_type": "code",
   "execution_count": 18,
   "metadata": {},
   "outputs": [],
   "source": [
    "data_classified = data[data['prediction']!=-1]\n",
    "\n",
    "from sklearn.metrics import accuracy_score\n",
    "accuracy_score(data_classified['sentiment'], data_classified['prediction'])\n",
    "\n",
    "two_and_four = []\n",
    "for i in range(len(data)):\n",
    "    if data.iloc[i,0] == 2 or data.iloc[i,0] == 4:\n",
    "        two_and_four.append(data.iloc[i,:])\n"
   ]
  },
  {
   "cell_type": "markdown",
   "metadata": {},
   "source": [
    "Accuracy of data with only reviews of two stars and four stars:"
   ]
  },
  {
   "cell_type": "code",
   "execution_count": 21,
   "metadata": {},
   "outputs": [
    {
     "data": {
      "text/plain": [
       "0.6712"
      ]
     },
     "execution_count": 21,
     "metadata": {},
     "output_type": "execute_result"
    }
   ],
   "source": [
    "accuracy_score(pd.DataFrame(two_and_four)['sentiment'], pd.DataFrame(two_and_four)['prediction'])"
   ]
  },
  {
   "cell_type": "markdown",
   "metadata": {},
   "source": [
    "Accuracy of data with only reviews of one stars and five stars:"
   ]
  },
  {
   "cell_type": "code",
   "execution_count": 22,
   "metadata": {},
   "outputs": [],
   "source": [
    "data_one_five = data.drop(pd.DataFrame(two_and_four).index)"
   ]
  },
  {
   "cell_type": "markdown",
   "metadata": {},
   "source": [
    "Taking non classified as negative comments:"
   ]
  },
  {
   "cell_type": "code",
   "execution_count": null,
   "metadata": {},
   "outputs": [],
   "source": [
    "data.loc[data['prediction']==-1,'prediction']=0\n",
    "\n",
    "accuracy_score(data['sentiment'], data['prediction'])\n",
    "\n",
    "from sklearn.metrics import confusion_matrix\n",
    "\n",
    "confusion_matrix(data['sentiment'], data['prediction'])\n"
   ]
  },
  {
   "cell_type": "code",
   "execution_count": 26,
   "metadata": {},
   "outputs": [],
   "source": [
    "data.to_csv('/Users/jd/OneDrive/Carnegie Mellon/Materias/Machine Learning/Project/Base_classification.csv')"
   ]
  },
  {
   "cell_type": "markdown",
   "metadata": {},
   "source": [
    "## Data Cleaning\n",
    "We first import the data, and clean it by removing stopwords and tokenizing."
   ]
  },
  {
   "cell_type": "code",
   "execution_count": null,
   "metadata": {},
   "outputs": [],
   "source": [
    "%matplotlib inline\n",
    "import spacy\n",
    "import pandas as pd\n",
    "import numpy as np\n",
    "import re\n",
    "import string"
   ]
  },
  {
   "cell_type": "code",
   "execution_count": 20,
   "metadata": {},
   "outputs": [],
   "source": [
    "# load data\n",
    "reviews = pd.read_csv('./parsed/new_data_balanced.csv')\n",
    "\n",
    "idx1 = [True if i == 1 else False for i in reviews['stars']]\n",
    "idx5 = [True if i == 5 else False for i in reviews['stars']]\n",
    "y = reviews['stars'].tolist()\n",
    "y = [-1 if star in [1,2] else 1 for star in y]\n",
    "reviews = pd.Series(reviews['text'])\n",
    "reviews = reviews.tolist()"
   ]
  },
  {
   "cell_type": "code",
   "execution_count": 2,
   "metadata": {
    "scrolled": true
   },
   "outputs": [
    {
     "name": "stdout",
     "output_type": "stream",
     "text": [
      "0\n",
      "disappointment cronut year expensive worst tasting cronut suppose light fluffy hard cardboard save money selection weak overprice apple fritter look like turd maple bar taste like plastic quest rid valley pathetic excuse donut shop\n",
      "1\n",
      "complain food review necessary compare place chipotle comparewhen size menu big want burrito small try big hungry huge pretty big maybe little big chipotle huge differencelike say compare chipotle love homemade process flavourfirst sautéed pepper onion bean fake come box like bean fake spread buy grocery store unique   rice cook alright topping usual topping fancy guacamole free scared chipotle charge extra make sure   overall taste burrito bland lack flavour season   call salt pepper exist cilantro topping really caned salsa bean paste   taste tortilla be not great allnot mention burrito wait extra 6 minute heat grill mark flat   want sour cream guac heating pay roughly 11 chicken burrito tax huge pick chipotle day week 1250 guacps make good burrito home cook alot place stick long especially people go ny fries golden burrito\n",
      "2\n",
      "use company poor staff bill service complete tell pay service send collection call owner time return phone bill payment want right gina address call week late remembering talk call suenot go care use good company use bad straight think people poor treatment\n",
      "3\n",
      "review 2015 cycle change know time phone leave message 3 different number case miss return course 2 month proceed contact facebook way communication go fit schedule tell refund place purchase vouch date extremely unprofessional rude tell business ask review post online shady type business want support\n",
      "4\n",
      "speak guy name bob plan come house quote defogg windows text picture window concern abouthe come house take look widow say fix ask tell get text say guy waste time leave house huff texted procrastinator guy sale skill people skill save time hassle joker\n"
     ]
    }
   ],
   "source": [
    "# load spacy en\n",
    "nlp = spacy.load('en_core_web_sm')\n",
    "\n",
    "# load stopwords\n",
    "# inspired by https://stackoverflow.com/a/3510894\n",
    "stopwords = pd.read_csv(\"./nlp/stopwords.txt\", header = None, encoding = \"UTF-8\", squeeze=True)\n",
    "stopwords = np.asarray(stopwords)\n",
    "pattern = \"|\".join(stopwords)\n",
    "stopwords = re.compile(\"\\\\b(\" + pattern + \")\\\\W\", re.I)\n",
    "punctuation = re.compile(r'[^\\w_ ]+', re.I)\n",
    "\n",
    "# clean the text (drops punctuation, only alpha-numeric, no stopwords)\n",
    "x = []\n",
    "i = 0\n",
    "for review in reviews:\n",
    "    review = punctuation.sub(\"\", review)\n",
    "    review = stopwords.sub(\"\", review)\n",
    "    parsed_text = nlp(review)\n",
    "    intermediate_text = []\n",
    "    for token in parsed_text:\n",
    "        intermediate_text.append(token.lemma_.lower())\n",
    "    words = \" \".join(intermediate_text)\n",
    "    if words != '':\n",
    "        x.append(words)\n",
    "    i+=1\n",
    "    \n",
    "i=0\n",
    "for review in x[:5]:\n",
    "    print(i)\n",
    "    print(review)\n",
    "    i+=1\n",
    "    \n",
    "# clear memory\n",
    "reviews = None"
   ]
  },
  {
   "cell_type": "code",
   "execution_count": null,
   "metadata": {},
   "outputs": [],
   "source": [
    "import pickle\n",
    "with open('./parsed/spacy_lemmas.pkl', 'wb') as f:\n",
    "   pickle.dump(x, f)"
   ]
  },
  {
   "cell_type": "code",
   "execution_count": 5,
   "metadata": {},
   "outputs": [],
   "source": [
    "with open('./parsed/spacy_lemmas.pkl', 'rb') as f:\n",
    "   x = pickle.load(f)"
   ]
  },
  {
   "cell_type": "markdown",
   "metadata": {},
   "source": [
    "## Creating features\n",
    "We then turn the Yelp reviews into vectors with the help of word embeddings. These embeddings are pre-trained tensors of the GloVe model on Twitter. So, we load these embeddings and create an average of the word tensors by review. This is, given a review, we take the average of the individual token embeddings and asign it to the review. Hence, each Yelp review now is has a feature vector built on the embeddings.\n",
    "\n",
    "We use GloVe pretrained embeddings on Twitter (2B tweets, 27B tokens, 1.2M vocab, uncased, 25d, 50d, 100d, & 200d vectors) to use for sentiment analysis. We obtained the embeddings from https://nlp.stanford.edu/projects/glove/."
   ]
  },
  {
   "cell_type": "markdown",
   "metadata": {},
   "source": [
    "Representation learning for very short texts using weighted word embedding aggregation. Cedric De Boom, Steven Van Canneyt, Thomas Demeester, Bart Dhoedt. Pattern Recognition Letters; arxiv:1607.00570. abstract, pdf. See especially Tables 1 and 2. https://arxiv.org/pdf/1607.00570"
   ]
  },
  {
   "cell_type": "markdown",
   "metadata": {},
   "source": [
    "###  25, 50, 100, 150, 200 dimensional embeddings"
   ]
  },
  {
   "cell_type": "code",
   "execution_count": 6,
   "metadata": {},
   "outputs": [
    {
     "name": "stdout",
     "output_type": "stream",
     "text": [
      "Found 1193514 word vectors for embedding of size 25\n",
      "Found 1193514 word vectors for embedding of size 50\n",
      "Found 1193514 word vectors for embedding of size 100\n",
      "Found 1193514 word vectors for embedding of size 200\n"
     ]
    }
   ],
   "source": [
    "med_matrix = {}\n",
    "for e in [25, 50, 100, 200]:\n",
    "    # load GloVe\n",
    "    # Pre-process the embeddings\n",
    "    embeddings_index = {}\n",
    "\n",
    "    # We will use the 50-dimensional embedding vectors\n",
    "    with open(\"./nlp/glove.twitter.27B.\"+str(e)+\"d.txt\", encoding='UTF-8') as f:\n",
    "        # Each row represents a word vector\n",
    "        for line in f:\n",
    "            values = line.split()\n",
    "            # The first part is word\n",
    "            word = values[0]\n",
    "            # The rest are the embedding vector\n",
    "            coefs = np.asarray(values[1:], dtype='float32')\n",
    "            embeddings_index[word] = coefs\n",
    "\n",
    "    print('Found {} word vectors for embedding of size {}'.format(len(embeddings_index), e))\n",
    "\n",
    "    # create embedding feature matrix by attaching average embedding to each review\n",
    "\n",
    "#     fmatrix = np.zeros((len(x), e*3))\n",
    "    m = np.zeros((len(x), e))\n",
    "    j = 0\n",
    "    for review in x:\n",
    "        words = review.split()\n",
    "        unique_words = np.unique(words)\n",
    "        embedding_matrix = np.zeros((len(words), e))\n",
    "        i = 0\n",
    "        for word in words:\n",
    "            embedding_vector = embeddings_index.get(word)\n",
    "            if embedding_vector is not None:\n",
    "                embedding_matrix[i] = embedding_vector\n",
    "                i+=1\n",
    "        # compute the median\n",
    "#         fmatrix[j] = np.append(embedding_matrix.max(0), [embedding_matrix.min(0), np.median(embedding_matrix, axis=0)])\n",
    "        m[j] = np.median(embedding_matrix, axis=0)\n",
    "        j += 1\n",
    "    med_matrix[e] = m\n"
   ]
  },
  {
   "cell_type": "markdown",
   "metadata": {},
   "source": [
    "### Bag of Words\n",
    "\n",
    "Next, we build the feautures for the Bag of Words approach, using spaCy's lemmatization."
   ]
  },
  {
   "cell_type": "code",
   "execution_count": 16,
   "metadata": {},
   "outputs": [
    {
     "name": "stdout",
     "output_type": "stream",
     "text": [
      "The vocabulary size is: 684.\n"
     ]
    }
   ],
   "source": [
    "# Create document term matrix\n",
    "from sklearn.feature_extraction.text import CountVectorizer\n",
    "\n",
    "tf_vectorizer = CountVectorizer(\n",
    "                                max_df=0.9,\n",
    "                                min_df=100,\n",
    "                                stop_words='english')\n",
    "tf_master = tf_vectorizer.fit_transform(x)\n",
    "print(\"The vocabulary size is: {}.\".format(tf_master.shape[1]))\n",
    "vocab_list = list(tf_vectorizer.vocabulary_.keys())"
   ]
  },
  {
   "cell_type": "markdown",
   "metadata": {},
   "source": [
    "#### Some intuition on why use pre-trained embeddings: a semantically meaningful mapping to an n-dimensional space"
   ]
  },
  {
   "cell_type": "code",
   "execution_count": 98,
   "metadata": {
    "scrolled": true
   },
   "outputs": [
    {
     "data": {
      "text/plain": [
       "0.8333333333333334"
      ]
     },
     "execution_count": 98,
     "metadata": {},
     "output_type": "execute_result"
    }
   ],
   "source": [
    "from sklearn.neighbors import KNeighborsClassifier\n",
    "from sklearn.metrics import accuracy_score\n",
    "\n",
    "exindex = [7730,8704,5884,6198,18,40,9973,9991,2207,1671,2402,399]\n",
    "example = med_matrix[200][exindex,:]\n",
    "yexample = list(np.array(y)[exindex])\n",
    "\n",
    "invindex = list(set(range(len(med_matrix[200]))) - set(exindex))\n",
    "\n",
    "knn = KNeighborsClassifier(5, metric='cosine', n_jobs=-1)\n",
    "knn.fit(med_matrix[200][invindex], list(np.array(y)[invindex]))\n",
    "prob = knn.predict_proba(example)\n",
    "pred = knn.predict(example)\n",
    "accuracy_score(yexample, pred)"
   ]
  },
  {
   "cell_type": "code",
   "execution_count": 127,
   "metadata": {},
   "outputs": [
    {
     "data": {
      "text/html": [
       "<div>\n",
       "<style scoped>\n",
       "    .dataframe tbody tr th:only-of-type {\n",
       "        vertical-align: middle;\n",
       "    }\n",
       "\n",
       "    .dataframe tbody tr th {\n",
       "        vertical-align: top;\n",
       "    }\n",
       "\n",
       "    .dataframe thead th {\n",
       "        text-align: right;\n",
       "    }\n",
       "</style>\n",
       "<table border=\"1\" class=\"dataframe\">\n",
       "  <thead>\n",
       "    <tr style=\"text-align: right;\">\n",
       "      <th></th>\n",
       "      <th>0</th>\n",
       "      <th>1</th>\n",
       "      <th>2</th>\n",
       "      <th>3</th>\n",
       "      <th>4</th>\n",
       "      <th>original</th>\n",
       "      <th>probability</th>\n",
       "      <th>prediction</th>\n",
       "      <th>observed</th>\n",
       "    </tr>\n",
       "  </thead>\n",
       "  <tbody>\n",
       "    <tr>\n",
       "      <th>0</th>\n",
       "      <td>I decided to move here after leaving my husban...</td>\n",
       "      <td>Seems that Living Social has quite a few coupo...</td>\n",
       "      <td>If I could give this place a NEGATIVE set of s...</td>\n",
       "      <td>I recently moved from Chicago area to Phoenix....</td>\n",
       "      <td>I really wanted this cleaning service to be th...</td>\n",
       "      <td>Wow! First-Class Service!\\r\\nWhen my daughter'...</td>\n",
       "      <td>0.2</td>\n",
       "      <td>-1</td>\n",
       "      <td>1</td>\n",
       "    </tr>\n",
       "    <tr>\n",
       "      <th>1</th>\n",
       "      <td>We visited OTORO yesterday 7/23/17 and had an ...</td>\n",
       "      <td>I have been to Veer Preet 10+ times. No more. ...</td>\n",
       "      <td>I was introduced to Harness by Yelp back in Fe...</td>\n",
       "      <td>I hurt. That's good. Yesterday, I did a reform...</td>\n",
       "      <td>Having done MA for most of my life, I am very ...</td>\n",
       "      <td>What an amazing place!!!  I will start off by ...</td>\n",
       "      <td>0.8</td>\n",
       "      <td>1</td>\n",
       "      <td>1</td>\n",
       "    </tr>\n",
       "    <tr>\n",
       "      <th>2</th>\n",
       "      <td>We were here in Rocky River from Los Angeles f...</td>\n",
       "      <td>Visiting Sushi Too was truly refreshing. As a ...</td>\n",
       "      <td>This is a nice pub to visit in Newmarket. They...</td>\n",
       "      <td>Some of these reviews were written super early...</td>\n",
       "      <td>I normally don't call servers out by name in Y...</td>\n",
       "      <td>Fantastic, lively atmosphere with excellent fo...</td>\n",
       "      <td>1.0</td>\n",
       "      <td>1</td>\n",
       "      <td>1</td>\n",
       "    </tr>\n",
       "    <tr>\n",
       "      <th>3</th>\n",
       "      <td>I was introduced to Harness by Yelp back in Fe...</td>\n",
       "      <td>Having done MA for most of my life, I am very ...</td>\n",
       "      <td>I hurt. That's good. Yesterday, I did a reform...</td>\n",
       "      <td>Seems that Living Social has quite a few coupo...</td>\n",
       "      <td>I'm disappointed. \\r\\n\\r\\nI've practiced Bikra...</td>\n",
       "      <td>I decided to try the Bikram Yoga Studio in Pho...</td>\n",
       "      <td>0.6</td>\n",
       "      <td>1</td>\n",
       "      <td>1</td>\n",
       "    </tr>\n",
       "    <tr>\n",
       "      <th>4</th>\n",
       "      <td>Scottsdale office on Desert Cove.  I had a ref...</td>\n",
       "      <td>First of all they have one of the nicest facil...</td>\n",
       "      <td>Love this place! Wait time is about 5 minutes,...</td>\n",
       "      <td>Dr. Shelly Friedman is a kindly doctor whose b...</td>\n",
       "      <td>While the dentist may be good, the front offic...</td>\n",
       "      <td>I had a change in my insurance at the beginnin...</td>\n",
       "      <td>0.2</td>\n",
       "      <td>-1</td>\n",
       "      <td>-1</td>\n",
       "    </tr>\n",
       "    <tr>\n",
       "      <th>5</th>\n",
       "      <td>This place has been quite terrible to me. Not ...</td>\n",
       "      <td>My friend and I went over to get our nails don...</td>\n",
       "      <td>This place takes the cake for filthiest and wo...</td>\n",
       "      <td>I have type 2 diabetes and no thyroid.  I have...</td>\n",
       "      <td>My daughter had a severe headache since eight ...</td>\n",
       "      <td>We put in a prescription for our two-month-old...</td>\n",
       "      <td>0.0</td>\n",
       "      <td>-1</td>\n",
       "      <td>-1</td>\n",
       "    </tr>\n",
       "    <tr>\n",
       "      <th>6</th>\n",
       "      <td>I am coming here for few years and what struck...</td>\n",
       "      <td>We purchased our retail business 4-1/2 years a...</td>\n",
       "      <td>Getting divorced is emotionally overwhelming.....</td>\n",
       "      <td>After doing extensive research on the internet...</td>\n",
       "      <td>I moved about 3.5 hours away with this company...</td>\n",
       "      <td>I had a very negative experience with an unrep...</td>\n",
       "      <td>0.4</td>\n",
       "      <td>-1</td>\n",
       "      <td>1</td>\n",
       "    </tr>\n",
       "    <tr>\n",
       "      <th>7</th>\n",
       "      <td>As an active woman in the world of motorsports...</td>\n",
       "      <td>After seeing so many positive reviews for this...</td>\n",
       "      <td>Finally a place that listens to thier clients....</td>\n",
       "      <td>Sadly, after five consecutive years of attendi...</td>\n",
       "      <td>It's been over three months since I started wi...</td>\n",
       "      <td>Fashion starts here. Highly underrated boutiqu...</td>\n",
       "      <td>0.8</td>\n",
       "      <td>1</td>\n",
       "      <td>1</td>\n",
       "    </tr>\n",
       "    <tr>\n",
       "      <th>8</th>\n",
       "      <td>Hmmm....what did I really expect for 13 bucks?...</td>\n",
       "      <td>I really want to like this place but it just d...</td>\n",
       "      <td>Bought a Groupon for Salon Diva for my fiancé ...</td>\n",
       "      <td>Seems that Living Social has quite a few coupo...</td>\n",
       "      <td>So I am on the hunt for a new nail place in Wh...</td>\n",
       "      <td>I don't understand the rave reviews about this...</td>\n",
       "      <td>0.2</td>\n",
       "      <td>-1</td>\n",
       "      <td>-1</td>\n",
       "    </tr>\n",
       "    <tr>\n",
       "      <th>9</th>\n",
       "      <td>Updated 11-22-2016\\r\\nThe whole property is un...</td>\n",
       "      <td>For all Yelpers looking to rent in the Squirre...</td>\n",
       "      <td>This place has pretty much the worst managemen...</td>\n",
       "      <td>I am torn about my review because while it's c...</td>\n",
       "      <td>I have lived in this complex for just over a y...</td>\n",
       "      <td>I am only writing this review because I have g...</td>\n",
       "      <td>0.0</td>\n",
       "      <td>-1</td>\n",
       "      <td>-1</td>\n",
       "    </tr>\n",
       "    <tr>\n",
       "      <th>10</th>\n",
       "      <td>Wish I could give 0 stars. I had an oil change...</td>\n",
       "      <td>These guys made the best of a rather annoying ...</td>\n",
       "      <td>After being a loyal Lexus customer for 20 year...</td>\n",
       "      <td>I've been taking my car to Sears Auto Center a...</td>\n",
       "      <td>The best rental car experience, period. Everyt...</td>\n",
       "      <td>Bottom line if you don't read the rest: The co...</td>\n",
       "      <td>0.4</td>\n",
       "      <td>-1</td>\n",
       "      <td>-1</td>\n",
       "    </tr>\n",
       "    <tr>\n",
       "      <th>11</th>\n",
       "      <td>Under new management and I would steer clear. ...</td>\n",
       "      <td>I must fill you in on a Little back story befo...</td>\n",
       "      <td>I've been taking my car to Sears Auto Center a...</td>\n",
       "      <td>Came in for my first visit with Firestone on 0...</td>\n",
       "      <td>Wish I could give 0 stars. I had an oil change...</td>\n",
       "      <td>PLEASE I REPEAT PLEASE DO NOT TAKE YOUR CAR HE...</td>\n",
       "      <td>0.0</td>\n",
       "      <td>-1</td>\n",
       "      <td>-1</td>\n",
       "    </tr>\n",
       "  </tbody>\n",
       "</table>\n",
       "</div>"
      ],
      "text/plain": [
       "                                                    0  \\\n",
       "0   I decided to move here after leaving my husban...   \n",
       "1   We visited OTORO yesterday 7/23/17 and had an ...   \n",
       "2   We were here in Rocky River from Los Angeles f...   \n",
       "3   I was introduced to Harness by Yelp back in Fe...   \n",
       "4   Scottsdale office on Desert Cove.  I had a ref...   \n",
       "5   This place has been quite terrible to me. Not ...   \n",
       "6   I am coming here for few years and what struck...   \n",
       "7   As an active woman in the world of motorsports...   \n",
       "8   Hmmm....what did I really expect for 13 bucks?...   \n",
       "9   Updated 11-22-2016\\r\\nThe whole property is un...   \n",
       "10  Wish I could give 0 stars. I had an oil change...   \n",
       "11  Under new management and I would steer clear. ...   \n",
       "\n",
       "                                                    1  \\\n",
       "0   Seems that Living Social has quite a few coupo...   \n",
       "1   I have been to Veer Preet 10+ times. No more. ...   \n",
       "2   Visiting Sushi Too was truly refreshing. As a ...   \n",
       "3   Having done MA for most of my life, I am very ...   \n",
       "4   First of all they have one of the nicest facil...   \n",
       "5   My friend and I went over to get our nails don...   \n",
       "6   We purchased our retail business 4-1/2 years a...   \n",
       "7   After seeing so many positive reviews for this...   \n",
       "8   I really want to like this place but it just d...   \n",
       "9   For all Yelpers looking to rent in the Squirre...   \n",
       "10  These guys made the best of a rather annoying ...   \n",
       "11  I must fill you in on a Little back story befo...   \n",
       "\n",
       "                                                    2  \\\n",
       "0   If I could give this place a NEGATIVE set of s...   \n",
       "1   I was introduced to Harness by Yelp back in Fe...   \n",
       "2   This is a nice pub to visit in Newmarket. They...   \n",
       "3   I hurt. That's good. Yesterday, I did a reform...   \n",
       "4   Love this place! Wait time is about 5 minutes,...   \n",
       "5   This place takes the cake for filthiest and wo...   \n",
       "6   Getting divorced is emotionally overwhelming.....   \n",
       "7   Finally a place that listens to thier clients....   \n",
       "8   Bought a Groupon for Salon Diva for my fiancé ...   \n",
       "9   This place has pretty much the worst managemen...   \n",
       "10  After being a loyal Lexus customer for 20 year...   \n",
       "11  I've been taking my car to Sears Auto Center a...   \n",
       "\n",
       "                                                    3  \\\n",
       "0   I recently moved from Chicago area to Phoenix....   \n",
       "1   I hurt. That's good. Yesterday, I did a reform...   \n",
       "2   Some of these reviews were written super early...   \n",
       "3   Seems that Living Social has quite a few coupo...   \n",
       "4   Dr. Shelly Friedman is a kindly doctor whose b...   \n",
       "5   I have type 2 diabetes and no thyroid.  I have...   \n",
       "6   After doing extensive research on the internet...   \n",
       "7   Sadly, after five consecutive years of attendi...   \n",
       "8   Seems that Living Social has quite a few coupo...   \n",
       "9   I am torn about my review because while it's c...   \n",
       "10  I've been taking my car to Sears Auto Center a...   \n",
       "11  Came in for my first visit with Firestone on 0...   \n",
       "\n",
       "                                                    4  \\\n",
       "0   I really wanted this cleaning service to be th...   \n",
       "1   Having done MA for most of my life, I am very ...   \n",
       "2   I normally don't call servers out by name in Y...   \n",
       "3   I'm disappointed. \\r\\n\\r\\nI've practiced Bikra...   \n",
       "4   While the dentist may be good, the front offic...   \n",
       "5   My daughter had a severe headache since eight ...   \n",
       "6   I moved about 3.5 hours away with this company...   \n",
       "7   It's been over three months since I started wi...   \n",
       "8   So I am on the hunt for a new nail place in Wh...   \n",
       "9   I have lived in this complex for just over a y...   \n",
       "10  The best rental car experience, period. Everyt...   \n",
       "11  Wish I could give 0 stars. I had an oil change...   \n",
       "\n",
       "                                             original  probability  \\\n",
       "0   Wow! First-Class Service!\\r\\nWhen my daughter'...          0.2   \n",
       "1   What an amazing place!!!  I will start off by ...          0.8   \n",
       "2   Fantastic, lively atmosphere with excellent fo...          1.0   \n",
       "3   I decided to try the Bikram Yoga Studio in Pho...          0.6   \n",
       "4   I had a change in my insurance at the beginnin...          0.2   \n",
       "5   We put in a prescription for our two-month-old...          0.0   \n",
       "6   I had a very negative experience with an unrep...          0.4   \n",
       "7   Fashion starts here. Highly underrated boutiqu...          0.8   \n",
       "8   I don't understand the rave reviews about this...          0.2   \n",
       "9   I am only writing this review because I have g...          0.0   \n",
       "10  Bottom line if you don't read the rest: The co...          0.4   \n",
       "11  PLEASE I REPEAT PLEASE DO NOT TAKE YOUR CAR HE...          0.0   \n",
       "\n",
       "    prediction  observed  \n",
       "0           -1         1  \n",
       "1            1         1  \n",
       "2            1         1  \n",
       "3            1         1  \n",
       "4           -1        -1  \n",
       "5           -1        -1  \n",
       "6           -1         1  \n",
       "7            1         1  \n",
       "8           -1        -1  \n",
       "9           -1        -1  \n",
       "10          -1        -1  \n",
       "11          -1        -1  "
      ]
     },
     "execution_count": 127,
     "metadata": {},
     "output_type": "execute_result"
    }
   ],
   "source": [
    "from sklearn.metrics.pairwise import cosine_similarity\n",
    "\n",
    "no_comments = 5\n",
    "similarComments = []\n",
    "for i in exindex:\n",
    "    k = cosine_similarity(med_matrix[200], med_matrix[200][i,:].reshape(1,200)).flatten()\n",
    "    index = np.argsort(k)\n",
    "    similarComments.append(list(np.array(reviews)[index[-no_comments-1:]]))\n",
    "\n",
    "df = pd.DataFrame(similarComments)\n",
    "df.rename({no_comments:'original'}, inplace=True, axis='columns')\n",
    "df['probability'] = prob[:,1]\n",
    "df['prediction'] = pred\n",
    "df['observed'] = yexample\n",
    "\n",
    "df.to_csv('similarComments.csv')\n",
    "df"
   ]
  },
  {
   "cell_type": "markdown",
   "metadata": {},
   "source": [
    "## Model Selection\n",
    "We now train several models using the review embeddings as feature matrix. We run a grid search over the models to select the best model, and the best parametrization for every model."
   ]
  },
  {
   "cell_type": "markdown",
   "metadata": {},
   "source": [
    "#### Train and Cross-Validate with Pre-Trained Word Embeddings"
   ]
  },
  {
   "cell_type": "code",
   "execution_count": 24,
   "metadata": {
    "scrolled": true
   },
   "outputs": [
    {
     "name": "stdout",
     "output_type": "stream",
     "text": [
      "Fitting 5 folds for each of 1 candidates, totalling 5 fits\n"
     ]
    },
    {
     "name": "stderr",
     "output_type": "stream",
     "text": [
      "[Parallel(n_jobs=-1)]: Done   2 out of   5 | elapsed:    0.6s remaining:    1.0s\n",
      "[Parallel(n_jobs=-1)]: Done   5 out of   5 | elapsed:    1.0s finished\n"
     ]
    },
    {
     "name": "stdout",
     "output_type": "stream",
     "text": [
      "Gaussian N. Bayes score: 0.7077333333333333\n",
      "Fitting 5 folds for each of 5 candidates, totalling 25 fits\n"
     ]
    },
    {
     "name": "stderr",
     "output_type": "stream",
     "text": [
      "[Parallel(n_jobs=-1)]: Done  25 out of  25 | elapsed:    4.5s finished\n"
     ]
    },
    {
     "name": "stdout",
     "output_type": "stream",
     "text": [
      "SVM score: 0.7862666666666667\n",
      "Fitting 5 folds for each of 10 candidates, totalling 50 fits\n"
     ]
    },
    {
     "name": "stderr",
     "output_type": "stream",
     "text": [
      "[Parallel(n_jobs=-1)]: Done  34 tasks      | elapsed:    2.1s\n",
      "[Parallel(n_jobs=-1)]: Done  50 out of  50 | elapsed:    2.3s finished\n"
     ]
    },
    {
     "name": "stdout",
     "output_type": "stream",
     "text": [
      "Logistic Regression score: 0.7874666666666666\n",
      "Fitting 5 folds for each of 20 candidates, totalling 100 fits\n"
     ]
    },
    {
     "name": "stderr",
     "output_type": "stream",
     "text": [
      "[Parallel(n_jobs=-1)]: Done  34 tasks      | elapsed:    2.2s\n",
      "[Parallel(n_jobs=-1)]: Done 100 out of 100 | elapsed:    3.8s finished\n"
     ]
    },
    {
     "name": "stdout",
     "output_type": "stream",
     "text": [
      "Decision Tree score: 0.7076\n",
      "Fitting 5 folds for each of 3 candidates, totalling 15 fits\n"
     ]
    },
    {
     "name": "stderr",
     "output_type": "stream",
     "text": [
      "[Parallel(n_jobs=-1)]: Done  15 out of  15 | elapsed:   37.7s finished\n"
     ]
    },
    {
     "name": "stdout",
     "output_type": "stream",
     "text": [
      "Random Forest score: 0.7897333333333333\n",
      "Fitting 5 folds for each of 9 candidates, totalling 45 fits\n"
     ]
    },
    {
     "name": "stderr",
     "output_type": "stream",
     "text": [
      "[Parallel(n_jobs=-1)]: Done  45 out of  45 | elapsed:  1.7min finished\n"
     ]
    },
    {
     "name": "stdout",
     "output_type": "stream",
     "text": [
      "Boosted Stumps score: 0.7882666666666667\n",
      "Fitting 5 folds for each of 5 candidates, totalling 25 fits\n"
     ]
    },
    {
     "name": "stderr",
     "output_type": "stream",
     "text": [
      "[Parallel(n_jobs=-1)]: Done  25 out of  25 | elapsed:   14.2s finished\n"
     ]
    },
    {
     "name": "stdout",
     "output_type": "stream",
     "text": [
      "KNN score: 0.7561333333333333\n",
      "Fitting 5 folds for each of 1 candidates, totalling 5 fits\n"
     ]
    },
    {
     "name": "stderr",
     "output_type": "stream",
     "text": [
      "[Parallel(n_jobs=-1)]: Done   2 out of   5 | elapsed:    0.7s remaining:    1.0s\n",
      "[Parallel(n_jobs=-1)]: Done   5 out of   5 | elapsed:    1.1s finished\n"
     ]
    },
    {
     "name": "stdout",
     "output_type": "stream",
     "text": [
      "Gaussian N. Bayes score: 0.7162666666666667\n",
      "Fitting 5 folds for each of 5 candidates, totalling 25 fits\n"
     ]
    },
    {
     "name": "stderr",
     "output_type": "stream",
     "text": [
      "[Parallel(n_jobs=-1)]: Done  25 out of  25 | elapsed:    6.2s finished\n"
     ]
    },
    {
     "name": "stdout",
     "output_type": "stream",
     "text": [
      "SVM score: 0.81\n",
      "Fitting 5 folds for each of 10 candidates, totalling 50 fits\n"
     ]
    },
    {
     "name": "stderr",
     "output_type": "stream",
     "text": [
      "[Parallel(n_jobs=-1)]: Done  34 tasks      | elapsed:    2.6s\n",
      "[Parallel(n_jobs=-1)]: Done  50 out of  50 | elapsed:    3.1s finished\n"
     ]
    },
    {
     "name": "stdout",
     "output_type": "stream",
     "text": [
      "Logistic Regression score: 0.8121333333333334\n",
      "Fitting 5 folds for each of 20 candidates, totalling 100 fits\n"
     ]
    },
    {
     "name": "stderr",
     "output_type": "stream",
     "text": [
      "[Parallel(n_jobs=-1)]: Done  34 tasks      | elapsed:    3.1s\n",
      "[Parallel(n_jobs=-1)]: Done 100 out of 100 | elapsed:    6.4s finished\n"
     ]
    },
    {
     "name": "stdout",
     "output_type": "stream",
     "text": [
      "Decision Tree score: 0.7074666666666667\n",
      "Fitting 5 folds for each of 3 candidates, totalling 15 fits\n"
     ]
    },
    {
     "name": "stderr",
     "output_type": "stream",
     "text": [
      "[Parallel(n_jobs=-1)]: Done  15 out of  15 | elapsed:   49.4s finished\n"
     ]
    },
    {
     "name": "stdout",
     "output_type": "stream",
     "text": [
      "Random Forest score: 0.8090666666666667\n",
      "Fitting 5 folds for each of 9 candidates, totalling 45 fits\n"
     ]
    },
    {
     "name": "stderr",
     "output_type": "stream",
     "text": [
      "[Parallel(n_jobs=-1)]: Done  45 out of  45 | elapsed:  3.1min finished\n"
     ]
    },
    {
     "name": "stdout",
     "output_type": "stream",
     "text": [
      "Boosted Stumps score: 0.7992\n",
      "Fitting 5 folds for each of 5 candidates, totalling 25 fits\n"
     ]
    },
    {
     "name": "stderr",
     "output_type": "stream",
     "text": [
      "[Parallel(n_jobs=-1)]: Done  25 out of  25 | elapsed:   32.0s finished\n"
     ]
    },
    {
     "name": "stdout",
     "output_type": "stream",
     "text": [
      "KNN score: 0.7618666666666667\n",
      "Fitting 5 folds for each of 1 candidates, totalling 5 fits\n"
     ]
    },
    {
     "name": "stderr",
     "output_type": "stream",
     "text": [
      "[Parallel(n_jobs=-1)]: Done   2 out of   5 | elapsed:    0.6s remaining:    1.0s\n",
      "[Parallel(n_jobs=-1)]: Done   5 out of   5 | elapsed:    1.1s finished\n"
     ]
    },
    {
     "name": "stdout",
     "output_type": "stream",
     "text": [
      "Gaussian N. Bayes score: 0.7082666666666667\n",
      "Fitting 5 folds for each of 5 candidates, totalling 25 fits\n"
     ]
    },
    {
     "name": "stderr",
     "output_type": "stream",
     "text": [
      "[Parallel(n_jobs=-1)]: Done  25 out of  25 | elapsed:    8.9s finished\n"
     ]
    },
    {
     "name": "stdout",
     "output_type": "stream",
     "text": [
      "SVM score: 0.8393333333333334\n",
      "Fitting 5 folds for each of 10 candidates, totalling 50 fits\n"
     ]
    },
    {
     "name": "stderr",
     "output_type": "stream",
     "text": [
      "[Parallel(n_jobs=-1)]: Done  34 tasks      | elapsed:    3.2s\n",
      "[Parallel(n_jobs=-1)]: Done  50 out of  50 | elapsed:    4.1s finished\n"
     ]
    },
    {
     "name": "stdout",
     "output_type": "stream",
     "text": [
      "Logistic Regression score: 0.8390666666666666\n",
      "Fitting 5 folds for each of 20 candidates, totalling 100 fits\n"
     ]
    },
    {
     "name": "stderr",
     "output_type": "stream",
     "text": [
      "[Parallel(n_jobs=-1)]: Done  34 tasks      | elapsed:    4.5s\n",
      "[Parallel(n_jobs=-1)]: Done 100 out of 100 | elapsed:   10.6s finished\n"
     ]
    },
    {
     "name": "stdout",
     "output_type": "stream",
     "text": [
      "Decision Tree score: 0.7004\n",
      "Fitting 5 folds for each of 3 candidates, totalling 15 fits\n"
     ]
    },
    {
     "name": "stderr",
     "output_type": "stream",
     "text": [
      "[Parallel(n_jobs=-1)]: Done  15 out of  15 | elapsed:  1.1min finished\n"
     ]
    },
    {
     "name": "stdout",
     "output_type": "stream",
     "text": [
      "Random Forest score: 0.8178666666666666\n",
      "Fitting 5 folds for each of 9 candidates, totalling 45 fits\n"
     ]
    },
    {
     "name": "stderr",
     "output_type": "stream",
     "text": [
      "[Parallel(n_jobs=-1)]: Done  45 out of  45 | elapsed:  5.8min finished\n"
     ]
    },
    {
     "name": "stdout",
     "output_type": "stream",
     "text": [
      "Boosted Stumps score: 0.8185333333333333\n",
      "Fitting 5 folds for each of 5 candidates, totalling 25 fits\n"
     ]
    },
    {
     "name": "stderr",
     "output_type": "stream",
     "text": [
      "[Parallel(n_jobs=-1)]: Done  25 out of  25 | elapsed:  1.2min finished\n"
     ]
    },
    {
     "name": "stdout",
     "output_type": "stream",
     "text": [
      "KNN score: 0.7598666666666667\n",
      "Fitting 5 folds for each of 1 candidates, totalling 5 fits\n"
     ]
    },
    {
     "name": "stderr",
     "output_type": "stream",
     "text": [
      "[Parallel(n_jobs=-1)]: Done   2 out of   5 | elapsed:    0.7s remaining:    1.2s\n",
      "[Parallel(n_jobs=-1)]: Done   5 out of   5 | elapsed:    1.2s finished\n"
     ]
    },
    {
     "name": "stdout",
     "output_type": "stream",
     "text": [
      "Gaussian N. Bayes score: 0.7022666666666667\n",
      "Fitting 5 folds for each of 5 candidates, totalling 25 fits\n"
     ]
    },
    {
     "name": "stderr",
     "output_type": "stream",
     "text": [
      "[Parallel(n_jobs=-1)]: Done  25 out of  25 | elapsed:   13.1s finished\n"
     ]
    },
    {
     "name": "stdout",
     "output_type": "stream",
     "text": [
      "SVM score: 0.8501333333333333\n",
      "Fitting 5 folds for each of 10 candidates, totalling 50 fits\n"
     ]
    },
    {
     "name": "stderr",
     "output_type": "stream",
     "text": [
      "[Parallel(n_jobs=-1)]: Done  34 tasks      | elapsed:    4.8s\n",
      "[Parallel(n_jobs=-1)]: Done  50 out of  50 | elapsed:    6.9s finished\n"
     ]
    },
    {
     "name": "stdout",
     "output_type": "stream",
     "text": [
      "Logistic Regression score: 0.8508\n",
      "Fitting 5 folds for each of 20 candidates, totalling 100 fits\n"
     ]
    },
    {
     "name": "stderr",
     "output_type": "stream",
     "text": [
      "[Parallel(n_jobs=-1)]: Done  34 tasks      | elapsed:    8.4s\n",
      "[Parallel(n_jobs=-1)]: Done 100 out of 100 | elapsed:   21.5s finished\n"
     ]
    },
    {
     "name": "stdout",
     "output_type": "stream",
     "text": [
      "Decision Tree score: 0.716\n",
      "Fitting 5 folds for each of 3 candidates, totalling 15 fits\n"
     ]
    },
    {
     "name": "stderr",
     "output_type": "stream",
     "text": [
      "[Parallel(n_jobs=-1)]: Done  15 out of  15 | elapsed:  1.5min finished\n"
     ]
    },
    {
     "name": "stdout",
     "output_type": "stream",
     "text": [
      "Random Forest score: 0.8277333333333333\n",
      "Fitting 5 folds for each of 9 candidates, totalling 45 fits\n"
     ]
    },
    {
     "name": "stderr",
     "output_type": "stream",
     "text": [
      "[Parallel(n_jobs=-1)]: Done  45 out of  45 | elapsed: 11.5min finished\n"
     ]
    },
    {
     "name": "stdout",
     "output_type": "stream",
     "text": [
      "Boosted Stumps score: 0.8369333333333333\n",
      "Fitting 5 folds for each of 5 candidates, totalling 25 fits\n"
     ]
    },
    {
     "name": "stderr",
     "output_type": "stream",
     "text": [
      "[Parallel(n_jobs=-1)]: Done  25 out of  25 | elapsed:  2.2min finished\n"
     ]
    },
    {
     "name": "stdout",
     "output_type": "stream",
     "text": [
      "KNN score: 0.7410666666666667\n"
     ]
    }
   ],
   "source": [
    "from sklearn.model_selection import GridSearchCV, train_test_split\n",
    "from sklearn.metrics import accuracy_score\n",
    "from sklearn.ensemble import AdaBoostClassifier, RandomForestClassifier\n",
    "from sklearn.linear_model import LogisticRegression\n",
    "from sklearn.svm import LinearSVC\n",
    "from sklearn.naive_bayes import GaussianNB\n",
    "from sklearn.tree import DecisionTreeClassifier\n",
    "from sklearn.neighbors import KNeighborsClassifier\n",
    "\n",
    "\n",
    "\n",
    "optimal = {}\n",
    "for e in [25, 50, 100, 200]:\n",
    "    # split data into testing and training\n",
    "    xtrain, xtest, ytrain, ytest = train_test_split(med_matrix[e], y, test_size=0.25, random_state=11)\n",
    "\n",
    "    models = [\n",
    "             \"Gaussian N. Bayes\",\n",
    "             \"SVM\",\n",
    "             \"Logistic Regression\",\n",
    "             \"Decision Tree\",\n",
    "             \"Random Forest\",\n",
    "             \"Boosted Stumps\",\n",
    "             \"KNN\"\n",
    "            ]\n",
    "\n",
    "    classifiers = [\n",
    "        GaussianNB(),\n",
    "        LinearSVC(),\n",
    "        LogisticRegression(),\n",
    "        DecisionTreeClassifier(),\n",
    "        RandomForestClassifier(),\n",
    "        AdaBoostClassifier(),\n",
    "        KNeighborsClassifier(),\n",
    "    ]\n",
    "\n",
    "    parameters = [\n",
    "                  {},                                                         # Gaussian Naive Bayes\n",
    "                  {'C': np.logspace(-4, 3, 5)},                               # SVM\n",
    "                  {'C': np.logspace(-4, 3, 10)},                              # Logistic Regression\n",
    "                  {'max_depth': np.linspace(10,200, 20)},                     # Decision Trees\n",
    "                  {'n_estimators': np.linspace(100, 1000, 3).astype('int')},  # Random Forest\n",
    "                  {'n_estimators': np.linspace(100, 1500, 3).astype('int'),   # Adaboost Forest\n",
    "                   'learning_rate': np.linspace(0.001, 2, 3)},\n",
    "                  {'n_neighbors': np.linspace(2, 50, 5).astype('int')},       # KNN\n",
    "                 ]\n",
    "    \n",
    "    for model, clf, params in zip(models, classifiers, parameters):\n",
    "        gscv = GridSearchCV(clf, param_grid=params, cv=5, n_jobs=-1, verbose=1)\n",
    "        gscv = gscv.fit(xtrain, ytrain)\n",
    "        score = gscv.best_score_\n",
    "        optimal[model+str(e)] = {'name':model, 'clf':gscv.best_estimator_, 'score':score, 'embed':e}\n",
    "        print(\"{} score: {}\".format(model, score))"
   ]
  },
  {
   "cell_type": "markdown",
   "metadata": {},
   "source": [
    "Enable model persistence."
   ]
  },
  {
   "cell_type": "code",
   "execution_count": 25,
   "metadata": {},
   "outputs": [],
   "source": [
    "import pickle\n",
    "with open('./models/median_embeddings.pkl', 'wb') as f:\n",
    "   pickle.dump(optimal, f)"
   ]
  },
  {
   "cell_type": "markdown",
   "metadata": {},
   "source": [
    "### Train and CV with BoW"
   ]
  },
  {
   "cell_type": "code",
   "execution_count": 28,
   "metadata": {},
   "outputs": [
    {
     "name": "stdout",
     "output_type": "stream",
     "text": [
      "Fitting 5 folds for each of 1 candidates, totalling 5 fits\n"
     ]
    },
    {
     "name": "stderr",
     "output_type": "stream",
     "text": [
      "[Parallel(n_jobs=-1)]: Done   2 out of   5 | elapsed:    1.0s remaining:    1.5s\n",
      "[Parallel(n_jobs=-1)]: Done   5 out of   5 | elapsed:    1.6s finished\n"
     ]
    },
    {
     "name": "stdout",
     "output_type": "stream",
     "text": [
      "Gaussian N. Bayes score: 0.7538666666666667\n",
      "Fitting 5 folds for each of 5 candidates, totalling 25 fits\n"
     ]
    },
    {
     "name": "stderr",
     "output_type": "stream",
     "text": [
      "[Parallel(n_jobs=-1)]: Done  25 out of  25 | elapsed:    4.4s finished\n"
     ]
    },
    {
     "name": "stdout",
     "output_type": "stream",
     "text": [
      "SVM score: 0.8693333333333333\n",
      "Fitting 5 folds for each of 10 candidates, totalling 50 fits\n"
     ]
    },
    {
     "name": "stderr",
     "output_type": "stream",
     "text": [
      "[Parallel(n_jobs=-1)]: Done  34 tasks      | elapsed:    4.3s\n",
      "[Parallel(n_jobs=-1)]: Done  50 out of  50 | elapsed:    5.9s finished\n"
     ]
    },
    {
     "name": "stdout",
     "output_type": "stream",
     "text": [
      "Logistic Regression score: 0.8710666666666667\n",
      "Fitting 5 folds for each of 20 candidates, totalling 100 fits\n"
     ]
    },
    {
     "name": "stderr",
     "output_type": "stream",
     "text": [
      "[Parallel(n_jobs=-1)]: Done  34 tasks      | elapsed:   10.7s\n",
      "[Parallel(n_jobs=-1)]: Done 100 out of 100 | elapsed:   31.3s finished\n"
     ]
    },
    {
     "name": "stdout",
     "output_type": "stream",
     "text": [
      "Decision Tree score: 0.7541333333333333\n",
      "Fitting 5 folds for each of 3 candidates, totalling 15 fits\n"
     ]
    },
    {
     "name": "stderr",
     "output_type": "stream",
     "text": [
      "[Parallel(n_jobs=-1)]: Done  15 out of  15 | elapsed:  1.3min finished\n"
     ]
    },
    {
     "name": "stdout",
     "output_type": "stream",
     "text": [
      "Random Forest score: 0.8568\n",
      "Fitting 5 folds for each of 9 candidates, totalling 45 fits\n"
     ]
    },
    {
     "name": "stderr",
     "output_type": "stream",
     "text": [
      "[Parallel(n_jobs=-1)]: Done  45 out of  45 | elapsed: 12.2min finished\n"
     ]
    },
    {
     "name": "stdout",
     "output_type": "stream",
     "text": [
      "Boosted Stumps score: 0.8572\n",
      "Fitting 5 folds for each of 5 candidates, totalling 25 fits\n"
     ]
    },
    {
     "name": "stderr",
     "output_type": "stream",
     "text": [
      "[Parallel(n_jobs=-1)]: Done  25 out of  25 | elapsed:  6.0min finished\n"
     ]
    },
    {
     "name": "stdout",
     "output_type": "stream",
     "text": [
      "KNN score: 0.7145333333333334\n"
     ]
    }
   ],
   "source": [
    "from sklearn.model_selection import GridSearchCV, train_test_split\n",
    "from sklearn.metrics import accuracy_score\n",
    "from sklearn.ensemble import AdaBoostClassifier, RandomForestClassifier\n",
    "from sklearn.linear_model import LogisticRegression\n",
    "from sklearn.svm import LinearSVC\n",
    "from sklearn.naive_bayes import GaussianNB\n",
    "from sklearn.tree import DecisionTreeClassifier\n",
    "from sklearn.neighbors import KNeighborsClassifier\n",
    "\n",
    "\n",
    "\n",
    "optimalBow = {}\n",
    "# split data into testing and training\n",
    "xtrainBow, xtestBow, ytrainBow, ytestBow = train_test_split(tf_master.toarray(), y, test_size=0.25, random_state=11)\n",
    "\n",
    "models = [\n",
    "         \"Gaussian N. Bayes\",\n",
    "         \"SVM\",\n",
    "         \"Logistic Regression\",\n",
    "         \"Decision Tree\",\n",
    "         \"Random Forest\",\n",
    "         \"Boosted Stumps\",\n",
    "         \"KNN\"\n",
    "        ]\n",
    "\n",
    "classifiers = [\n",
    "    GaussianNB(),\n",
    "    LinearSVC(),\n",
    "    LogisticRegression(),\n",
    "    DecisionTreeClassifier(),\n",
    "    RandomForestClassifier(),\n",
    "    AdaBoostClassifier(),\n",
    "    KNeighborsClassifier(),\n",
    "]\n",
    "\n",
    "parameters = [\n",
    "              {},                                                         # Gaussian Naive Bayes\n",
    "              {'C': np.logspace(-4, 3, 5)},                               # SVM\n",
    "              {'C': np.logspace(-4, 3, 10)},                              # Logistic Regression\n",
    "              {'max_depth': np.linspace(10,200, 20)},                     # Decision Trees\n",
    "              {'n_estimators': np.linspace(100, 1000, 3).astype('int')},  # Random Forest\n",
    "              {'n_estimators': np.linspace(100, 1500, 3).astype('int'),   # Adaboost Forest\n",
    "               'learning_rate': np.linspace(0.001, 2, 3)},\n",
    "              {'n_neighbors': np.linspace(2, 50, 5).astype('int')},       # KNN\n",
    "             ]\n",
    "\n",
    "for model, clf, params in zip(models, classifiers, parameters):\n",
    "    gscv = GridSearchCV(clf, param_grid=params, cv=5, n_jobs=-1, verbose=1)\n",
    "    gscv = gscv.fit(xtrainBow, ytrainBow)\n",
    "    score = gscv.best_score_\n",
    "    optimalBow[model] = {'name':model, 'clf':gscv.best_estimator_, 'score':score, 'embed':e}\n",
    "    print(\"{} score: {}\".format(model, score))"
   ]
  },
  {
   "cell_type": "markdown",
   "metadata": {},
   "source": [
    "Enable model persistence."
   ]
  },
  {
   "cell_type": "code",
   "execution_count": 29,
   "metadata": {},
   "outputs": [],
   "source": [
    "import pickle\n",
    "with open('./models/bow.pkl', 'wb') as f:\n",
    "   pickle.dump(optimalBow, f)"
   ]
  },
  {
   "cell_type": "markdown",
   "metadata": {},
   "source": [
    "## Calculate test error\n",
    "We now test the best model, as obtained by the last procedure. This model is the best among the selected model families and also has the best hyper-parameter selection."
   ]
  },
  {
   "cell_type": "markdown",
   "metadata": {},
   "source": [
    "### PTE"
   ]
  },
  {
   "cell_type": "code",
   "execution_count": 109,
   "metadata": {},
   "outputs": [
    {
     "name": "stdout",
     "output_type": "stream",
     "text": [
      "LogisticRegression(C=0.774263682681127, class_weight=None, dual=False,\n",
      "          fit_intercept=True, intercept_scaling=1, max_iter=100,\n",
      "          multi_class='ovr', n_jobs=1, penalty='l2', random_state=None,\n",
      "          solver='liblinear', tol=0.0001, verbose=0, warm_start=False)\n",
      "The best number of embeddings is: 200\n"
     ]
    }
   ],
   "source": [
    "# get the PTE best model\n",
    "bestModel = max(map(lambda x: (optimal[x]['score'], x), optimal.keys()))[1]\n",
    "bestClf = optimal[bestModel]['clf']\n",
    "print(bestClf)\n",
    "print('The best number of embeddings is: {}'.format(optimal[bestModel]['embed']))"
   ]
  },
  {
   "cell_type": "code",
   "execution_count": 110,
   "metadata": {},
   "outputs": [
    {
     "name": "stdout",
     "output_type": "stream",
     "text": [
      "Test accuracy is: 0.8432\n"
     ]
    }
   ],
   "source": [
    "# calculate the predictions\n",
    "predtest = bestClf.predict(xtest)\n",
    "\n",
    "# report training and test accuracy\n",
    "print('Test accuracy is: ' + str(accuracy_score(ytest, predtest)))"
   ]
  },
  {
   "cell_type": "code",
   "execution_count": 111,
   "metadata": {},
   "outputs": [
    {
     "data": {
      "text/plain": [
       "array([[1056,  173],\n",
       "       [ 219, 1052]], dtype=int64)"
      ]
     },
     "execution_count": 111,
     "metadata": {},
     "output_type": "execute_result"
    }
   ],
   "source": [
    "from sklearn.metrics import confusion_matrix\n",
    "\n",
    "confusion_matrix(ytest, predtest)"
   ]
  },
  {
   "cell_type": "markdown",
   "metadata": {},
   "source": [
    "### BoW"
   ]
  },
  {
   "cell_type": "code",
   "execution_count": 112,
   "metadata": {},
   "outputs": [
    {
     "name": "stdout",
     "output_type": "stream",
     "text": [
      "LogisticRegression(C=0.1291549665014884, class_weight=None, dual=False,\n",
      "          fit_intercept=True, intercept_scaling=1, max_iter=100,\n",
      "          multi_class='ovr', n_jobs=1, penalty='l2', random_state=None,\n",
      "          solver='liblinear', tol=0.0001, verbose=0, warm_start=False)\n"
     ]
    }
   ],
   "source": [
    "# get the PTE best model\n",
    "bestModel = max(map(lambda x: (optimalBow[x]['score'], x), optimalBow.keys()))[1]\n",
    "bestClfBow = optimalBow[bestModel]['clf']\n",
    "print(bestClfBow)"
   ]
  },
  {
   "cell_type": "code",
   "execution_count": 113,
   "metadata": {},
   "outputs": [
    {
     "name": "stdout",
     "output_type": "stream",
     "text": [
      "Test accuracy is: 0.8712\n"
     ]
    }
   ],
   "source": [
    "# calculate the predictions\n",
    "predtestBow = bestClfBow.predict(xtestBow)\n",
    "\n",
    "# report training and test accuracy\n",
    "print('Test accuracy is: ' + str(accuracy_score(ytestBow, predtestBow)))"
   ]
  },
  {
   "cell_type": "code",
   "execution_count": 114,
   "metadata": {},
   "outputs": [
    {
     "data": {
      "text/plain": [
       "array([[1065,  164],\n",
       "       [ 158, 1113]], dtype=int64)"
      ]
     },
     "execution_count": 114,
     "metadata": {},
     "output_type": "execute_result"
    }
   ],
   "source": [
    "from sklearn.metrics import confusion_matrix\n",
    "\n",
    "confusion_matrix(ytestBow, predtestBow)"
   ]
  },
  {
   "cell_type": "markdown",
   "metadata": {},
   "source": [
    "### ROC Curves"
   ]
  },
  {
   "cell_type": "code",
   "execution_count": 91,
   "metadata": {},
   "outputs": [
    {
     "data": {
      "text/plain": [
       "array([[0.30320519, 0.69679481],\n",
       "       [0.04519256, 0.95480744],\n",
       "       [0.03642784, 0.96357216],\n",
       "       ...,\n",
       "       [0.37180773, 0.62819227],\n",
       "       [0.22437566, 0.77562434],\n",
       "       [0.64978063, 0.35021937]])"
      ]
     },
     "execution_count": 91,
     "metadata": {},
     "output_type": "execute_result"
    }
   ],
   "source": [
    "predtest"
   ]
  },
  {
   "cell_type": "code",
   "execution_count": 107,
   "metadata": {},
   "outputs": [
    {
     "data": {
      "text/plain": [
       "<Figure size 432x288 with 0 Axes>"
      ]
     },
     "metadata": {},
     "output_type": "display_data"
    },
    {
     "data": {
      "image/png": "[encoded data removed]",
      "text/plain": [
       "<Figure size 576x576 with 1 Axes>"
      ]
     },
     "metadata": {},
     "output_type": "display_data"
    }
   ],
   "source": [
    "from sklearn.metrics import roc_curve\n",
    "\n",
    "plt.figure()\n",
    "predtest = bestClf.predict_proba(xtest)[:,1]\n",
    "predtestBow = bestClfBow.predict_proba(xtestBow)[:,1]\n",
    "\n",
    "fpr, tpr, _ = roc_curve(ytest, predtest, pos_label=1)\n",
    "fprBow, tprBow, _ = roc_curve(ytestBow, predtestBow, pos_label=1)\n",
    "aucBow = np.trapz(tprBow, fprBow)\n",
    "auc = np.trapz(tpr, fpr)\n",
    "fig = plt.figure(figsize=(8,8))\n",
    "plt.plot(fprBow, tprBow, label=\"BoW Logistic Regression AUC=\" + \"{:.3f}\".format(aucBow), lw=1.4)\n",
    "plt.plot(fpr, tpr, label=\"PTE Logistic Regression AUC=\" + \"{:.3f}\".format(auc), lw=1.4)\n",
    "plt.plot([0, 1], [0, 1], 'k--', lw=2)\n",
    "\n",
    "plt.xlabel(\"FPR\", size=23)\n",
    "plt.ylabel(\"TPR\", size=23)\n",
    "plt.legend(fontsize=16)\n",
    "plt.rc('xtick',labelsize=20)\n",
    "plt.rc('ytick',labelsize=20)\n",
    "plt.savefig('ROC.png', dpi=1000, pad_inches=0)\n",
    "plt.show()"
   ]
  },
  {
   "cell_type": "markdown",
   "metadata": {},
   "source": [
    "#### Record the data to tables:"
   ]
  },
  {
   "cell_type": "markdown",
   "metadata": {},
   "source": [
    "##### CV Error"
   ]
  },
  {
   "cell_type": "code",
   "execution_count": 119,
   "metadata": {},
   "outputs": [
    {
     "data": {
      "text/html": [
       "<div>\n",
       "<style scoped>\n",
       "    .dataframe tbody tr th:only-of-type {\n",
       "        vertical-align: middle;\n",
       "    }\n",
       "\n",
       "    .dataframe tbody tr th {\n",
       "        vertical-align: top;\n",
       "    }\n",
       "\n",
       "    .dataframe thead th {\n",
       "        text-align: right;\n",
       "    }\n",
       "</style>\n",
       "<table border=\"1\" class=\"dataframe\">\n",
       "  <thead>\n",
       "    <tr style=\"text-align: right;\">\n",
       "      <th></th>\n",
       "      <th>Model Family</th>\n",
       "      <th>25-d</th>\n",
       "      <th>50-d</th>\n",
       "      <th>100-d</th>\n",
       "      <th>200-d</th>\n",
       "      <th>BoW</th>\n",
       "    </tr>\n",
       "  </thead>\n",
       "  <tbody>\n",
       "    <tr>\n",
       "      <th>0</th>\n",
       "      <td>Gaussian N. Bayes</td>\n",
       "      <td>0.708</td>\n",
       "      <td>0.716</td>\n",
       "      <td>0.708</td>\n",
       "      <td>0.702</td>\n",
       "      <td>0.754</td>\n",
       "    </tr>\n",
       "    <tr>\n",
       "      <th>1</th>\n",
       "      <td>SVM</td>\n",
       "      <td>0.786</td>\n",
       "      <td>0.810</td>\n",
       "      <td>0.839</td>\n",
       "      <td>0.850</td>\n",
       "      <td>0.869</td>\n",
       "    </tr>\n",
       "    <tr>\n",
       "      <th>2</th>\n",
       "      <td>Logistic Regression</td>\n",
       "      <td>0.787</td>\n",
       "      <td>0.812</td>\n",
       "      <td>0.839</td>\n",
       "      <td>0.851</td>\n",
       "      <td>0.871</td>\n",
       "    </tr>\n",
       "    <tr>\n",
       "      <th>3</th>\n",
       "      <td>Decision Tree</td>\n",
       "      <td>0.708</td>\n",
       "      <td>0.707</td>\n",
       "      <td>0.700</td>\n",
       "      <td>0.716</td>\n",
       "      <td>0.754</td>\n",
       "    </tr>\n",
       "    <tr>\n",
       "      <th>4</th>\n",
       "      <td>Random Forest</td>\n",
       "      <td>0.790</td>\n",
       "      <td>0.809</td>\n",
       "      <td>0.818</td>\n",
       "      <td>0.828</td>\n",
       "      <td>0.857</td>\n",
       "    </tr>\n",
       "    <tr>\n",
       "      <th>5</th>\n",
       "      <td>Boosted Stumps</td>\n",
       "      <td>0.788</td>\n",
       "      <td>0.799</td>\n",
       "      <td>0.819</td>\n",
       "      <td>0.837</td>\n",
       "      <td>0.857</td>\n",
       "    </tr>\n",
       "    <tr>\n",
       "      <th>6</th>\n",
       "      <td>KNN</td>\n",
       "      <td>0.756</td>\n",
       "      <td>0.762</td>\n",
       "      <td>0.760</td>\n",
       "      <td>0.741</td>\n",
       "      <td>0.715</td>\n",
       "    </tr>\n",
       "  </tbody>\n",
       "</table>\n",
       "</div>"
      ],
      "text/plain": [
       "          Model Family   25-d   50-d  100-d  200-d    BoW\n",
       "0    Gaussian N. Bayes  0.708  0.716  0.708  0.702  0.754\n",
       "1                  SVM  0.786  0.810  0.839  0.850  0.869\n",
       "2  Logistic Regression  0.787  0.812  0.839  0.851  0.871\n",
       "3        Decision Tree  0.708  0.707  0.700  0.716  0.754\n",
       "4        Random Forest  0.790  0.809  0.818  0.828  0.857\n",
       "5       Boosted Stumps  0.788  0.799  0.819  0.837  0.857\n",
       "6                  KNN  0.756  0.762  0.760  0.741  0.715"
      ]
     },
     "execution_count": 119,
     "metadata": {},
     "output_type": "execute_result"
    }
   ],
   "source": [
    "cvTable = pd.DataFrame(np.zeros((7, 6)))\n",
    "cvTable.rename({0:'Model Family', 1:'25-d', 2:'50-d', 3:'100-d', 4:'200-d', 5:'BoW'}, axis=1, inplace=True)\n",
    "\n",
    "for i, model in enumerate(models):\n",
    "    cvTable.loc[i, 'Model Family'] = model\n",
    "    for e in [25, 50, 100, 200]:\n",
    "        cvTable.loc[i, str(e)+'-d'] = optimal[model+str(e)]['score']\n",
    "    cvTable.loc[i, 'BoW'] = optimalBow[model]['score']\n",
    "\n",
    "cvTable = cvTable.round(decimals=3)\n",
    "cvTable.to_csv('./results/cvTable.csv', index=False)\n",
    "cvTable"
   ]
  },
  {
   "cell_type": "markdown",
   "metadata": {},
   "source": [
    "##### Predictions"
   ]
  },
  {
   "cell_type": "code",
   "execution_count": 118,
   "metadata": {},
   "outputs": [
    {
     "data": {
      "text/html": [
       "<div>\n",
       "<style scoped>\n",
       "    .dataframe tbody tr th:only-of-type {\n",
       "        vertical-align: middle;\n",
       "    }\n",
       "\n",
       "    .dataframe tbody tr th {\n",
       "        vertical-align: top;\n",
       "    }\n",
       "\n",
       "    .dataframe thead th {\n",
       "        text-align: right;\n",
       "    }\n",
       "</style>\n",
       "<table border=\"1\" class=\"dataframe\">\n",
       "  <thead>\n",
       "    <tr style=\"text-align: right;\">\n",
       "      <th></th>\n",
       "      <th>Model Family</th>\n",
       "      <th>BoW</th>\n",
       "      <th>PTE</th>\n",
       "    </tr>\n",
       "  </thead>\n",
       "  <tbody>\n",
       "    <tr>\n",
       "      <th>0</th>\n",
       "      <td>Gaussian N. Bayes</td>\n",
       "      <td>0.755</td>\n",
       "      <td>0.686</td>\n",
       "    </tr>\n",
       "    <tr>\n",
       "      <th>1</th>\n",
       "      <td>SVM</td>\n",
       "      <td>0.872</td>\n",
       "      <td>0.830</td>\n",
       "    </tr>\n",
       "    <tr>\n",
       "      <th>2</th>\n",
       "      <td>Logistic Regression</td>\n",
       "      <td>0.871</td>\n",
       "      <td>0.843</td>\n",
       "    </tr>\n",
       "    <tr>\n",
       "      <th>3</th>\n",
       "      <td>Decision Tree</td>\n",
       "      <td>0.762</td>\n",
       "      <td>0.717</td>\n",
       "    </tr>\n",
       "    <tr>\n",
       "      <th>4</th>\n",
       "      <td>Random Forest</td>\n",
       "      <td>0.857</td>\n",
       "      <td>0.826</td>\n",
       "    </tr>\n",
       "    <tr>\n",
       "      <th>5</th>\n",
       "      <td>Boosted Stumps</td>\n",
       "      <td>0.856</td>\n",
       "      <td>0.834</td>\n",
       "    </tr>\n",
       "    <tr>\n",
       "      <th>6</th>\n",
       "      <td>KNN</td>\n",
       "      <td>0.722</td>\n",
       "      <td>0.733</td>\n",
       "    </tr>\n",
       "  </tbody>\n",
       "</table>\n",
       "</div>"
      ],
      "text/plain": [
       "          Model Family    BoW    PTE\n",
       "0    Gaussian N. Bayes  0.755  0.686\n",
       "1                  SVM  0.872  0.830\n",
       "2  Logistic Regression  0.871  0.843\n",
       "3        Decision Tree  0.762  0.717\n",
       "4        Random Forest  0.857  0.826\n",
       "5       Boosted Stumps  0.856  0.834\n",
       "6                  KNN  0.722  0.733"
      ]
     },
     "execution_count": 118,
     "metadata": {},
     "output_type": "execute_result"
    }
   ],
   "source": [
    "predTable = pd.DataFrame(np.zeros((7,3)))\n",
    "predTable.rename({0:'Model Family', 1:'BoW', 2:'PTE'}, axis=1, inplace=True)\n",
    "\n",
    "for i, model in enumerate(models):\n",
    "    predTable.loc[i, 'Model Family'] = model\n",
    "    # BoW\n",
    "    clf = optimalBow[model]['clf']\n",
    "    predtest = clf.predict(xtestBow)\n",
    "    predTable.loc[i, 'BoW'] = accuracy_score(ytestBow, predtest)\n",
    "    # PTE\n",
    "    clf = optimal[model+'200']['clf']\n",
    "    predtest = clf.predict(xtest)\n",
    "    predTable.loc[i, 'PTE'] = accuracy_score(ytest, predtest)\n",
    "\n",
    "predTable = predTable.round(decimals=3)\n",
    "predTable.to_csv('./results/predTable.csv', index=False)\n",
    "predTable"
   ]
  },
  {
   "cell_type": "markdown",
   "metadata": {},
   "source": [
    "## Create a WordCloud using the Logistic Regression Coefficents for BoW"
   ]
  },
  {
   "cell_type": "code",
   "execution_count": null,
   "metadata": {},
   "outputs": [],
   "source": [
    "lr = optimalBow['Logistic Regression']['clf']\n",
    "\n",
    "#Create word list\n",
    "vocab_list=list(tf_vectorizer.vocabulary_.keys())\n",
    "\n",
    "\n",
    "#Take top 200 coefficients by magnitude\n",
    "abs_coeff=np.absolute(lr.coef_[0])\n",
    "top200 = np.argsort(abs_coeff,axis=0)[::-1]\n",
    "\n",
    "#Create dictionary mapping word to value of coefficient\n",
    "\n",
    "pos_coeffs=[]\n",
    "frequencies={}\n",
    "for idx in top200:    \n",
    "    frequencies[vocab_list[idx]] = abs_coeff[idx]\n",
    "    if (lr.coef_[0][idx]) > 0:\n",
    "        pos_coeffs.append(vocab_list[idx])\n",
    "\n",
    "\n",
    "from wordcloud import WordCloud\n",
    "import matplotlib.pyplot as plt\n",
    "\n",
    "from pylab import figure, axes, pie, title, show\n",
    "\n",
    "def color_func23(word, font_size, position,orientation, random_state=None, **kwargs):\n",
    "    if word not in pos_coeffs:\n",
    "        return(\"hsl(5,100%%, %d%%)\" % np.random.randint(49,51))\n",
    "    else:\n",
    "        return(\"hsl(130,100%%, %d%%)\" % np.random.randint(49,51))\n",
    "        \n",
    "\n",
    "\n",
    "wc1 = WordCloud(background_color='white').fit_words(frequencies)"
   ]
  },
  {
   "cell_type": "code",
   "execution_count": 46,
   "metadata": {},
   "outputs": [
    {
     "data": {
      "image/png": "[encoded data removed]",
      "text/plain": [
       "<Figure size 432x288 with 1 Axes>"
      ]
     },
     "metadata": {},
     "output_type": "display_data"
    }
   ],
   "source": [
    "plt.imshow(wc1.recolor(color_func=color_func23, random_state=3),\n",
    "           interpolation=\"bilinear\")\n",
    "plt.axis(\"off\")\n",
    "plt.savefig('WordCloud.png',dpi=1000,pad_inches=0)\n",
    "plt.show()\n",
    "\n",
    "plt.close()"
   ]
  },
  {
   "cell_type": "markdown",
   "metadata": {},
   "source": [
    "# Sentiment Analysis using Bag of Words"
   ]
  },
  {
   "cell_type": "code",
   "execution_count": 1,
   "metadata": {
    "collapsed": true
   },
   "outputs": [],
   "source": [
    "import pandas as pd\n",
    "df = pd.read_csv(\"new_data.csv\")"
   ]
  },
  {
   "cell_type": "code",
   "execution_count": 2,
   "metadata": {},
   "outputs": [
    {
     "name": "stdout",
     "output_type": "stream",
     "text": [
      "Vocabulary Size: 2967\n"
     ]
    }
   ],
   "source": [
    "#Creating document term matrix\n",
    "\n",
    "from sklearn.feature_extraction.text import CountVectorizer\n",
    "tf_vectorizer = CountVectorizer(max_df=0.9,\n",
    "                                min_df=20,\n",
    "                                stop_words='english')\n",
    "tf_master = tf_vectorizer.fit_transform(df['text'])\n",
    "print(\"Vocabulary Size:\",tf_master.shape[1])"
   ]
  },
  {
   "cell_type": "code",
   "execution_count": 3,
   "metadata": {
    "collapsed": true
   },
   "outputs": [],
   "source": [
    "#Creating 1/0 label for \"sentiment\"\n",
    "\n",
    "def f(row):\n",
    "    if row['stars'] == 5 or row['stars'] == 4:\n",
    "        val = 1\n",
    "    else:\n",
    "        val = 0\n",
    "    return val\n",
    "\n",
    "df['labels'] = df.apply(f,axis=1)\n",
    "labels = df['labels']"
   ]
  },
  {
   "cell_type": "code",
   "execution_count": 4,
   "metadata": {},
   "outputs": [
    {
     "name": "stderr",
     "output_type": "stream",
     "text": [
      "C:\\Users\\shoun\\Anaconda3\\lib\\site-packages\\sklearn\\cross_validation.py:41: DeprecationWarning: This module was deprecated in version 0.18 in favor of the model_selection module into which all the refactored classes and functions are moved. Also note that the interface of the new CV iterators are different from that of this module. This module will be removed in 0.20.\n",
      "  \"This module will be removed in 0.20.\", DeprecationWarning)\n"
     ]
    }
   ],
   "source": [
    "#Training test split\n",
    "\n",
    "from sklearn.cross_validation import train_test_split\n",
    "X_train, X_test, y_train, y_test = train_test_split( \n",
    "tf_master, labels, test_size = 0.25, random_state = 95828)"
   ]
  },
  {
   "cell_type": "code",
   "execution_count": 5,
   "metadata": {},
   "outputs": [
    {
     "name": "stdout",
     "output_type": "stream",
     "text": [
      "Training Accuracy:  1.0\n",
      "Test Accuracy:  0.7612\n"
     ]
    }
   ],
   "source": [
    "from sklearn.tree import DecisionTreeClassifier\n",
    "from sklearn.metrics import accuracy_score\n",
    "\n",
    "# Building an unpruned decision tree\n",
    "clf1 = DecisionTreeClassifier(criterion=\"entropy\",random_state=95825)\n",
    "clf1.fit(X_train,y_train)\n",
    "ypred_train = clf1.predict(X_train)\n",
    "ypred_test = clf1.predict(X_test)\n",
    "print(\"Training Accuracy: \",str(accuracy_score(y_train,ypred_train)))\n",
    "print(\"Test Accuracy: \",str(accuracy_score(y_test,ypred_test)))"
   ]
  },
  {
   "cell_type": "code",
   "execution_count": 6,
   "metadata": {},
   "outputs": [
    {
     "name": "stdout",
     "output_type": "stream",
     "text": [
      "Best C: 40\n",
      "Cross Validation Score: 0.772928808531\n"
     ]
    }
   ],
   "source": [
    "import numpy as np\n",
    "from sklearn.model_selection import cross_validate\n",
    "num_folds = 5\n",
    "fold_scores=[]\n",
    "param_values = np.arange(5,90,5)\n",
    "arg_max = None\n",
    "max_cross_val_score = -np.inf\n",
    "for C in param_values:\n",
    "    nums=[]\n",
    "    #print(\"C = \" + str(C))\n",
    "    clf = DecisionTreeClassifier(criterion=\"entropy\",max_depth=C,random_state=95825)\n",
    "    cv_results = cross_validate(clf, X_train, y_train,cv=num_folds ,return_train_score=False)\n",
    "    nums.append(list(cv_results['test_score']))\n",
    "    fold_scores.append(np.mean(nums))\n",
    "    \n",
    "    cross_val_score = np.mean(nums)\n",
    "    if cross_val_score > max_cross_val_score:\n",
    "            max_cross_val_score = cross_val_score\n",
    "            arg_max = C\n",
    "\n",
    "\n",
    "best_C = arg_max\n",
    "print(\"Best C:\",best_C)\n",
    "print(\"Cross Validation Score:\",max_cross_val_score)\n"
   ]
  },
  {
   "cell_type": "code",
   "execution_count": 7,
   "metadata": {},
   "outputs": [
    {
     "name": "stdout",
     "output_type": "stream",
     "text": [
      "Training Accuracy:  0.9676\n",
      "Test Accuracy:  0.7664\n"
     ]
    }
   ],
   "source": [
    "#Using best hyperparameter to predict test accuracy\n",
    "\n",
    "clf2 = DecisionTreeClassifier(criterion=\"entropy\",max_depth=best_C,random_state=95825)\n",
    "clf2.fit(X_train,y_train)\n",
    "ypred_train = clf2.predict(X_train)\n",
    "ypred_test = clf2.predict(X_test)\n",
    "print(\"Training Accuracy: \",str(accuracy_score(y_train,ypred_train)))\n",
    "print(\"Test Accuracy: \",str(accuracy_score(y_test,ypred_test)))"
   ]
  },
  {
   "cell_type": "code",
   "execution_count": 8,
   "metadata": {},
   "outputs": [
    {
     "name": "stdout",
     "output_type": "stream",
     "text": [
      "0.869733333333\n",
      "best depth is :  {'base_estimator__max_depth': 80}\n"
     ]
    }
   ],
   "source": [
    "#Random Forest\n",
    "\n",
    "from sklearn.ensemble import BaggingClassifier\n",
    "from sklearn.model_selection import GridSearchCV\n",
    "\n",
    "clf3 = DecisionTreeClassifier(criterion=\"entropy\")\n",
    "num_trees = 100\n",
    "m = int (0.2 *tf_master.shape[1])\n",
    "model = BaggingClassifier(base_estimator=clf3, n_estimators=num_trees, max_features = m, random_state =95828 )\n",
    "model = model.fit(X_train, y_train)\n",
    "\n",
    "param_grid = [{'base_estimator__max_depth':np.arange(5,90,5)}]\n",
    "grid = GridSearchCV(model, param_grid, cv=5, scoring='accuracy')\n",
    "grid.fit(X_train, y_train)\n",
    "print(grid.best_score_)\n",
    "print(\"best depth is : \",grid.best_params_)"
   ]
  },
  {
   "cell_type": "code",
   "execution_count": 9,
   "metadata": {},
   "outputs": [
    {
     "name": "stdout",
     "output_type": "stream",
     "text": [
      "Training Accuracy:  0.9996\n",
      "Test Accuracy:  0.8512\n"
     ]
    }
   ],
   "source": [
    "#RF on test data with best depth\n",
    "\n",
    "clf4 = DecisionTreeClassifier(criterion=\"entropy\",max_depth=grid.best_params_)\n",
    "num_trees = 100\n",
    "m = int (0.2 *tf_master.shape[1])\n",
    "\n",
    "model_new = BaggingClassifier(base_estimator=clf4, n_estimators=num_trees, max_features = m, random_state =95828 )\n",
    "model_new = model.fit(X_train, y_train)\n",
    "ypred_train = model_new.predict(X_train)\n",
    "ypred_test = model_new.predict(X_test)\n",
    "print(\"Training Accuracy: \",str(accuracy_score(y_train,ypred_train)))\n",
    "print(\"Test Accuracy: \",str(accuracy_score(y_test,ypred_test)))\n"
   ]
  },
  {
   "cell_type": "code",
   "execution_count": 10,
   "metadata": {},
   "outputs": [
    {
     "name": "stdout",
     "output_type": "stream",
     "text": [
      "Training Accuracy:  1.0\n",
      "Test Accuracy:  0.8436\n"
     ]
    }
   ],
   "source": [
    "#Unregularized Logistic Regression\n",
    "\n",
    "from sklearn.linear_model import LogisticRegression\n",
    "LogReg = LogisticRegression(penalty='l1',C=1e10)\n",
    "LogReg.fit(X_train, y_train)\n",
    "ypred_train = LogReg.predict(X_train)\n",
    "ypred_test = LogReg.predict(X_test)\n",
    "print(\"Training Accuracy: \",str(accuracy_score(y_train,ypred_train)))\n",
    "print(\"Test Accuracy: \",str(accuracy_score(y_test,ypred_test)))\n"
   ]
  },
  {
   "cell_type": "code",
   "execution_count": 11,
   "metadata": {},
   "outputs": [
    {
     "name": "stdout",
     "output_type": "stream",
     "text": [
      "C = 0.04\n",
      "C = 0.0905263157895\n",
      "C = 0.141052631579\n",
      "C = 0.191578947368\n",
      "C = 0.242105263158\n",
      "C = 0.292631578947\n",
      "C = 0.343157894737\n",
      "C = 0.393684210526\n",
      "C = 0.444210526316\n",
      "C = 0.494736842105\n",
      "C = 0.545263157895\n",
      "C = 0.595789473684\n",
      "C = 0.646315789474\n",
      "C = 0.696842105263\n",
      "C = 0.747368421053\n",
      "C = 0.797894736842\n",
      "C = 0.848421052632\n",
      "C = 0.898947368421\n",
      "C = 0.949473684211\n",
      "C = 1.0\n",
      "Best C: 0.545263157895\n",
      "Cross Validation Score: 0.890668226964\n"
     ]
    }
   ],
   "source": [
    "#Regularized Logisitc Regression\n",
    "\n",
    "from sklearn.model_selection import KFold\n",
    "from sklearn.model_selection import cross_validate\n",
    "fold_scores=[]\n",
    "num_folds = 5\n",
    "k_fold = KFold(num_folds)\n",
    "param_values = np.linspace(0.04,1,num=20)\n",
    "arg_max = None\n",
    "max_cross_val_score = -np.inf\n",
    "for C in param_values:\n",
    "    nums=[]\n",
    "    \n",
    "    print(\"C = \" + str(C))\n",
    "    clf = LogisticRegression(penalty='l1',C=C)        \n",
    "    cv_results = cross_validate(clf, X_train, y_train,cv=num_folds ,return_train_score=False)\n",
    "    nums.append(list(cv_results['test_score']))\n",
    "    fold_scores.append(np.mean(nums))\n",
    "    \n",
    "    cross_val_score = np.mean(nums)\n",
    "    if cross_val_score > max_cross_val_score:\n",
    "            max_cross_val_score = cross_val_score\n",
    "            arg_max = C\n",
    "\n",
    "\n",
    "best_C = arg_max\n",
    "print(\"Best C:\",best_C)\n",
    "print(\"Cross Validation Score:\",max_cross_val_score)\n"
   ]
  },
  {
   "cell_type": "code",
   "execution_count": 12,
   "metadata": {},
   "outputs": [
    {
     "name": "stdout",
     "output_type": "stream",
     "text": [
      "Training Accuracy:  0.957733333333\n",
      "Test Accuracy:  0.8816\n"
     ]
    }
   ],
   "source": [
    "LogReg_regularized = LogisticRegression(penalty='l1',C=best_C,)\n",
    "LogReg_regularized.fit(X_train, y_train)\n",
    "ypred_train = LogReg_regularized.predict(X_train)\n",
    "ypred_test = LogReg_regularized.predict(X_test)\n",
    "print(\"Training Accuracy: \",str(accuracy_score(y_train,ypred_train)))\n",
    "print(\"Test Accuracy: \",str(accuracy_score(y_test,ypred_test)))\n"
   ]
  },
  {
   "cell_type": "code",
   "execution_count": 13,
   "metadata": {},
   "outputs": [
    {
     "name": "stdout",
     "output_type": "stream",
     "text": [
      "C = 0.0001\n",
      "C = 0.000464158883361\n",
      "C = 0.00215443469003\n",
      "C = 0.01\n",
      "C = 0.0464158883361\n",
      "C = 0.215443469003\n",
      "C = 1.0\n",
      "C = 4.64158883361\n",
      "C = 21.5443469003\n",
      "C = 100.0\n",
      "Best C: 0.01\n",
      "Cross Validation Score: 0.897201829156\n"
     ]
    }
   ],
   "source": [
    "#SVM\n",
    "\n",
    "from sklearn import svm\n",
    "\n",
    "fold_scores=[]\n",
    "num_folds = 5\n",
    "k_fold = KFold(num_folds)\n",
    "param_values = np.logspace(-4, 2, 10)\n",
    "arg_max = None\n",
    "max_cross_val_score = -np.inf\n",
    "for C in param_values:\n",
    "    nums=[]\n",
    "    \n",
    "    print(\"C = \" + str(C))\n",
    "    clf = svm.LinearSVC(C=C)\n",
    "    cv_results = cross_validate(clf, X_train, y_train,cv=num_folds ,return_train_score=False)\n",
    "    nums.append(list(cv_results['test_score']))\n",
    "    fold_scores.append(np.mean(nums))\n",
    "    \n",
    "    cross_val_score = np.mean(nums)\n",
    "    if cross_val_score > max_cross_val_score:\n",
    "            max_cross_val_score = cross_val_score\n",
    "            arg_max = C\n",
    "\n",
    "\n",
    "best_C = arg_max\n",
    "print(\"Best C:\",best_C)\n",
    "print(\"Cross Validation Score:\",max_cross_val_score)\n"
   ]
  },
  {
   "cell_type": "code",
   "execution_count": 14,
   "metadata": {},
   "outputs": [
    {
     "name": "stdout",
     "output_type": "stream",
     "text": [
      "Training Accuracy:  0.999333333333\n",
      "Test Accuracy:  0.844\n"
     ]
    }
   ],
   "source": [
    "clf_SVM = svm.LinearSVC(C=C)\n",
    "clf_SVM.fit(X_train, y_train)\n",
    "ypred_train = clf_SVM.predict(X_train)\n",
    "ypred_test = clf_SVM.predict(X_test)\n",
    "print(\"Training Accuracy: \",str(accuracy_score(y_train,ypred_train)))\n",
    "print(\"Test Accuracy: \",str(accuracy_score(y_test,ypred_test)))\n"
   ]
  },
  {
   "cell_type": "code",
   "execution_count": 15,
   "metadata": {},
   "outputs": [
    {
     "name": "stdout",
     "output_type": "stream",
     "text": [
      "C = 1\n",
      "0.624129997391\n",
      "C = 3\n",
      "0.629466532741\n",
      "C = 5\n",
      "0.633327245331\n",
      "C = 7\n",
      "0.62772973268\n",
      "C = 9\n",
      "0.620528574102\n",
      "C = 11\n",
      "0.613860927227\n",
      "Best C: 5\n",
      "Cross Validation Score: 0.633327245331\n"
     ]
    }
   ],
   "source": [
    "# KNN \n",
    "\n",
    "from sklearn.neighbors import KNeighborsClassifier\n",
    "\n",
    "fold_scores=[]\n",
    "num_folds = 5\n",
    "k_fold = KFold(num_folds)\n",
    "param_values = [1,3,5,7,9,11]\n",
    "arg_max = None\n",
    "max_cross_val_score = -np.inf\n",
    "for C in param_values:\n",
    "    nums=[]\n",
    "    \n",
    "    print(\"C = \" + str(C))\n",
    "    knn_model = KNeighborsClassifier(n_neighbors=C)\n",
    "    cv_results = cross_validate(knn_model, X_train, y_train,cv=num_folds ,return_train_score=False)\n",
    "    nums.append(list(cv_results['test_score']))\n",
    "    fold_scores.append(np.mean(nums))\n",
    "    \n",
    "    cross_val_score = np.mean(nums)\n",
    "    print(cross_val_score)\n",
    "    if cross_val_score > max_cross_val_score:\n",
    "            max_cross_val_score = cross_val_score\n",
    "            arg_max = C\n",
    "\n",
    "\n",
    "best_C = arg_max\n",
    "print(\"Best C:\",best_C)\n",
    "print(\"Cross Validation Score:\",max_cross_val_score)\n"
   ]
  },
  {
   "cell_type": "code",
   "execution_count": 16,
   "metadata": {},
   "outputs": [
    {
     "name": "stdout",
     "output_type": "stream",
     "text": [
      "Training Accuracy:  0.7628\n",
      "Test Accuracy:  0.6188\n"
     ]
    }
   ],
   "source": [
    "clf_KNN = KNeighborsClassifier(n_neighbors=3)\n",
    "clf_KNN.fit(X_train, y_train)\n",
    "ypred_train = clf_KNN.predict(X_train)\n",
    "ypred_test = clf_KNN.predict(X_test)\n",
    "print(\"Training Accuracy: \",str(accuracy_score(y_train,ypred_train)))\n",
    "print(\"Test Accuracy: \",str(accuracy_score(y_test,ypred_test)))\n"
   ]
  },
  {
   "cell_type": "code",
   "execution_count": 130,
   "metadata": {
    "scrolled": false
   },
   "outputs": [
    {
     "data": {
      "text/plain": [
       "1142"
      ]
     },
     "execution_count": 130,
     "metadata": {},
     "output_type": "execute_result"
    }
   ],
   "source": [
    "sum([all(tup) for tup in zip(data['prediction']==1, data['sentiment']==0)])"
   ]
  },
  {
   "cell_type": "markdown",
   "metadata": {},
   "source": [
    "# Sentiment Analysis using pre-trained embeddings\n",
    "\n",
    "We use GloVe pretrained embeddings on Twitter (2B tweets, 27B tokens, 1.2M vocab, uncased, 25d, 50d, 100d, & 200d vectors) to use for sentiment analysis. We obtained the embeddings from https://nlp.stanford.edu/projects/glove/."
   ]
  },
  {
   "cell_type": "markdown",
   "metadata": {},
   "source": [
    "## Data Cleaning\n",
    "We first import the data, and clean it by removing stopwords and tokenizing."
   ]
  },
  {
   "cell_type": "code",
   "execution_count": 3,
   "metadata": {},
   "outputs": [],
   "source": [
    "%matplotlib inline\n",
    "import spacy\n",
    "import pandas as pd\n",
    "import numpy as np\n",
    "import re\n",
    "import string\n",
    "\n",
    "reviews = pd.read_csv('./new_data.csv')\n",
    "\n",
    "idx1 = [True if i == 1 else False for i in reviews['stars']]\n",
    "idx5 = [True if i == 5 else False for i in reviews['stars']]\n",
    "y = reviews['stars'].tolist()\n",
    "y = [-1 if star in [1,2] else 1 for star in y]\n",
    "reviews = pd.Series(reviews['text'])\n",
    "reviews = reviews.tolist()"
   ]
  },
  {
   "cell_type": "code",
   "execution_count": 5,
   "metadata": {},
   "outputs": [
    {
     "name": "stdout",
     "output_type": "stream",
     "text": [
      "0\n",
      "useless staff order correct reasonable time frame management need rehire staff\n",
      "1\n",
      "go boyfriend week order sizzle plate special fish   assorted seafood boil season salty compare near yonge college fish really salty teriyaki sauce will not go location hot like really try hard kitchen salty season shrimp devein bring boyfriend server eye boyfriend nerve gently touch handing debit machine lol hope help\n",
      "2\n",
      "go fountain attach recess order burger look pretty good absolutely cover sauce personally awful list menu burger like completely swim stuff take bite burger like taste sauce basically mayonnaise sandwich server return later ask alright explain sauce bad quietly apologized take plate away return minute later billin service mediocre inattentive unpleasant hurry despite table restaurant end pay leave unsatisfiedwill back\n",
      "3\n",
      "agree employee tim horton location bit rude today 10 pm   jan 16 2016 go tim horton order hot chocolate white female extremely rude racist give attitude handle drink rough manner sort roughly place counter see interaction white guy line polite friendly thinking partthat korea town majority customer minority maybe work tim horton small town there s racist people like live regular customer compare location near uoft compareable cauasian girl work uoft location respectful trained mannerism customer service\n",
      "4\n",
      "come rocknes year time issue hostess completely totally ridiculous wife somebody complain restaurant call manager explain exactly happen response shrug shoulder say sorry walk away customer service back\n"
     ]
    }
   ],
   "source": [
    "# load spacy en\n",
    "nlp = spacy.load('en')\n",
    "\n",
    "# load stopwords\n",
    "# inspired by https://stackoverflow.com/a/3510894\n",
    "stopwords = pd.read_csv(\"./stopwords.txt\", header = None, encoding = \"UTF-8\", squeeze=True)\n",
    "stopwords = np.asarray(stopwords)\n",
    "pattern = \"|\".join(stopwords)\n",
    "stopwords = re.compile(\"\\\\b(\" + pattern + \")\\\\W\", re.I)\n",
    "punctuation = re.compile(r'[^\\w_ ]+', re.I)\n",
    "\n",
    "# clean the text (drops punctuation, only alpha-numeric, no stopwords)\n",
    "x = []\n",
    "i = 0\n",
    "for review in reviews:\n",
    "    review = punctuation.sub(\"\", review)\n",
    "    review = stopwords.sub(\"\", review)\n",
    "    parsed_text = nlp(review)\n",
    "    intermediate_text = []\n",
    "    for token in parsed_text:\n",
    "        intermediate_text.append(token.lemma_.lower())\n",
    "    words = \" \".join(intermediate_text)\n",
    "    if words != '':\n",
    "        x.append(words)\n",
    "    i+=1\n",
    "    \n",
    "i=0\n",
    "for review in x[:5]:\n",
    "    print(i)\n",
    "    print(review)\n",
    "    i+=1\n",
    "    \n",
    "# clear memory\n",
    "reviews = None"
   ]
  },
  {
   "cell_type": "markdown",
   "metadata": {},
   "source": [
    "## Creating features\n",
    "We then turn the Yelp reviews into vectors with the help of word embeddings. These embeddings are pre-trained tensors of the GloVe model on Twitter. So, we load these embeddings and create an average of the word tensors by review. This is, given a review, we take the average of the individual token embeddings and asign it to the review. Hence, each Yelp review now is has a feature vector built on the embeddings."
   ]
  },
  {
   "cell_type": "markdown",
   "metadata": {},
   "source": [
    "Representation learning for very short texts using weighted word embedding aggregation. Cedric De Boom, Steven Van Canneyt, Thomas Demeester, Bart Dhoedt. Pattern Recognition Letters; arxiv:1607.00570. abstract, pdf. See especially Tables 1 and 2. https://arxiv.org/pdf/1607.00570"
   ]
  },
  {
   "cell_type": "markdown",
   "metadata": {},
   "source": [
    "###  50 dimensional embeddings"
   ]
  },
  {
   "cell_type": "code",
   "execution_count": 6,
   "metadata": {},
   "outputs": [
    {
     "name": "stdout",
     "output_type": "stream",
     "text": [
      "Found 1193514 word vectors.\n"
     ]
    }
   ],
   "source": [
    "# load GloVe\n",
    "# Pre-process the embeddings\n",
    "embeddings_index = {}\n",
    "\n",
    "# We will use the 50-dimensional embedding vectors\n",
    "with open(\"./glove.twitter.27B.50d.txt\", encoding='UTF-8') as f:\n",
    "    # Each row represents a word vector\n",
    "    for line in f:\n",
    "        values = line.split()\n",
    "        # The first part is word\n",
    "        word = values[0]\n",
    "        # The rest are the embedding vector\n",
    "        coefs = np.asarray(values[1:], dtype='float32')\n",
    "        embeddings_index[word] = coefs\n",
    "\n",
    "print('Found %s word vectors.' % len(embeddings_index))"
   ]
  },
  {
   "cell_type": "code",
   "execution_count": 30,
   "metadata": {},
   "outputs": [],
   "source": [
    "# create embedding feature matrix by attaching average embedding to each review\n",
    "fmatrix = np.zeros((len(x), 150))\n",
    "ave_matrix = np.zeros((len(x), 50))\n",
    "j = 0\n",
    "for review in x:\n",
    "    words = review.split()\n",
    "    unique_words = np.unique(words)\n",
    "    embedding_matrix = np.zeros((len(words), 50))\n",
    "    i = 0\n",
    "    for word in words:\n",
    "        embedding_vector = embeddings_index.get(word)\n",
    "        if embedding_vector is not None:\n",
    "            embedding_matrix[i] = embedding_vector\n",
    "            i+=1\n",
    "    # average\n",
    "    fmatrix[j] = np.append(embedding_matrix.max(0), [embedding_matrix.min(0), embedding_matrix.mean(0)])\n",
    "    ave_matrix[j] = embedding_matrix.mean(0)\n",
    "    j += 1\n",
    "\n",
    "# clear memory\n",
    "# x = None"
   ]
  },
  {
   "cell_type": "markdown",
   "metadata": {},
   "source": [
    "###  100 dimensional embeddings"
   ]
  },
  {
   "cell_type": "code",
   "execution_count": 38,
   "metadata": {},
   "outputs": [
    {
     "name": "stdout",
     "output_type": "stream",
     "text": [
      "Found 1193514 word vectors.\n"
     ]
    }
   ],
   "source": [
    "# load GloVe\n",
    "# Pre-process the embeddings\n",
    "embeddings_index = {}\n",
    "\n",
    "# We will use the 50-dimensional embedding vectors\n",
    "with open(\"./glove.twitter.27B.100d.txt\", encoding='UTF-8') as f:\n",
    "    # Each row represents a word vector\n",
    "    for line in f:\n",
    "        values = line.split()\n",
    "        # The first part is word\n",
    "        word = values[0]\n",
    "        # The rest are the embedding vector\n",
    "        coefs = np.asarray(values[1:], dtype='float32')\n",
    "        embeddings_index[word] = coefs\n",
    "\n",
    "print('Found %s word vectors.' % len(embeddings_index))"
   ]
  },
  {
   "cell_type": "code",
   "execution_count": 39,
   "metadata": {},
   "outputs": [],
   "source": [
    "# create embedding feature matrix by attaching average embedding to each review\n",
    "fmatrix100 = np.zeros((len(x), 300))\n",
    "ave_matrix100 = np.zeros((len(x), 100))\n",
    "j = 0\n",
    "for review in x:\n",
    "    words = review.split()\n",
    "    unique_words = np.unique(words)\n",
    "    embedding_matrix = np.zeros((len(words), 100))\n",
    "    i = 0\n",
    "    for word in words:\n",
    "        embedding_vector = embeddings_index.get(word)\n",
    "        if embedding_vector is not None:\n",
    "            embedding_matrix[i] = embedding_vector\n",
    "            i+=1\n",
    "    # average\n",
    "    fmatrix100[j] = np.append(embedding_matrix.max(0), [embedding_matrix.min(0), embedding_matrix.mean(0)])\n",
    "    ave_matrix100[j] = embedding_matrix.mean(0)\n",
    "    j += 1\n",
    "\n",
    "# clear memory\n",
    "# x = None"
   ]
  },
  {
   "cell_type": "markdown",
   "metadata": {},
   "source": [
    "## Model Selection\n",
    "We now train several models using the review embeddings as feature matrix. We run a grid search over the models to select the best model, and the best parametrization for every model."
   ]
  },
  {
   "cell_type": "markdown",
   "metadata": {},
   "source": [
    "###  50 dimensional embeddings"
   ]
  },
  {
   "cell_type": "markdown",
   "metadata": {},
   "source": [
    "#### Mean"
   ]
  },
  {
   "cell_type": "code",
   "execution_count": null,
   "metadata": {},
   "outputs": [],
   "source": [
    "from sklearn.model_selection import GridSearchCV, train_test_split\n",
    "from sklearn.metrics import accuracy_score\n",
    "from sklearn.ensemble import AdaBoostClassifier, RandomForestClassifier\n",
    "from sklearn.linear_model import LogisticRegression\n",
    "from sklearn.svm import SVC\n",
    "from sklearn.naive_bayes import GaussianNB\n",
    "\n",
    "# split data into testing and training\n",
    "xtrain, xtest, ytrain, ytest = train_test_split(ave_matrix, y, test_size=0.25, random_state=11)\n",
    "\n",
    "models = [\n",
    "         \"Naive Bayes\",\n",
    "         \"SVM\",\n",
    "         \"Logistic Regression\",\n",
    "         \"Random Forest\",\n",
    "         \"Adaboost Forest\"\n",
    "        ]\n",
    "\n",
    "classifiers = [\n",
    "    GaussianNB(),\n",
    "    SVC(),\n",
    "    LogisticRegression(),\n",
    "    RandomForestClassifier(),\n",
    "    AdaBoostClassifier()\n",
    "]\n",
    "\n",
    "parameters = [\n",
    "              {},                                                         # Gaussian Naive Bayes\n",
    "              {'C': np.logspace(-4, 3, 5),                                # SVM\n",
    "               'degree': range(1, 4),\n",
    "               'kernel': ['poly']},\n",
    "              {'C': np.logspace(-4, 3, 15)},                              # Logistic Regression\n",
    "              {'n_estimators': np.linspace(100, 1000, 5).astype('int')},  # Random Forest\n",
    "              {'n_estimators': np.linspace(100, 1500, 5).astype('int'),    # Adaboost Forest\n",
    "               'learning_rate': np.linspace(0.001, 2, 3)},\n",
    "             ]\n",
    "optimal = {}\n",
    "for model, clf, params in zip(models, classifiers, parameters):\n",
    "    gscv = GridSearchCV(clf, param_grid=params, cv=10, n_jobs=-1)\n",
    "    gscv = gscv.fit(xtrain, ytrain)\n",
    "    score = gscv.best_score_\n",
    "    optimal[model] = {'clf':gscv.best_estimator_, 'score':score}\n",
    "    print(\"{} score: {}\".format(model, score))"
   ]
  },
  {
   "cell_type": "code",
   "execution_count": 18,
   "metadata": {},
   "outputs": [
    {
     "data": {
      "text/plain": [
       "AdaBoostClassifier(algorithm='SAMME.R', base_estimator=None,\n",
       "          learning_rate=0.50075, n_estimators=537, random_state=None)"
      ]
     },
     "execution_count": 18,
     "metadata": {},
     "output_type": "execute_result"
    }
   ],
   "source": [
    "optimal[\"Adaboost Forest\"]['clf']"
   ]
  },
  {
   "cell_type": "markdown",
   "metadata": {},
   "source": [
    "#### Max, Min, Mean"
   ]
  },
  {
   "cell_type": "code",
   "execution_count": 40,
   "metadata": {},
   "outputs": [
    {
     "name": "stdout",
     "output_type": "stream",
     "text": [
      "Wall time: 0 ns\n",
      "Naive Bayes score: 0.6897333333333333\n",
      "SVM score: 0.8569333333333333\n",
      "Logistic Regression score: 0.8556\n",
      "Random Forest score: 0.8326666666666667\n",
      "Adaboost Forest score: 0.8498666666666667\n"
     ]
    }
   ],
   "source": [
    "%time\n",
    "from sklearn.model_selection import GridSearchCV, train_test_split\n",
    "from sklearn.metrics import accuracy_score\n",
    "from sklearn.ensemble import AdaBoostClassifier, RandomForestClassifier\n",
    "from sklearn.linear_model import LogisticRegression\n",
    "from sklearn.svm import SVC\n",
    "from sklearn.naive_bayes import GaussianNB\n",
    "\n",
    "# split data into testing and training\n",
    "xtrain, xtest, ytrain, ytest = train_test_split(fmatrix, y, test_size=0.25, random_state=11)\n",
    "\n",
    "models = [\n",
    "         \"Naive Bayes\",\n",
    "         \"SVM\",\n",
    "         \"Logistic Regression\",\n",
    "         \"Random Forest\",\n",
    "         \"Adaboost Forest\"\n",
    "        ]\n",
    "\n",
    "classifiers = [\n",
    "    GaussianNB(),\n",
    "    SVC(),\n",
    "    LogisticRegression(),\n",
    "    RandomForestClassifier(),\n",
    "    AdaBoostClassifier()\n",
    "]\n",
    "\n",
    "parameters = [\n",
    "              {},                                                         # Gaussian Naive Bayes\n",
    "              {'C': np.logspace(-4, 3, 5),                                # SVM\n",
    "               'degree': range(1, 4),\n",
    "               'kernel': ['poly']},\n",
    "              {'C': np.logspace(-4, 3, 15)},                              # Logistic Regression\n",
    "              {'n_estimators': np.linspace(100, 1000, 5).astype('int')},  # Random Forest\n",
    "              {'n_estimators': np.linspace(100, 1500, 5).astype('int'),    # Adaboost Forest\n",
    "               'learning_rate': np.linspace(0.001, 2, 3)},\n",
    "             ]\n",
    "optimal = {}\n",
    "for model, clf, params in zip(models, classifiers, parameters):\n",
    "    gscv = GridSearchCV(clf, param_grid=params, cv=10, n_jobs=-1)\n",
    "    gscv = gscv.fit(xtrain, ytrain)\n",
    "    score = gscv.best_score_\n",
    "    optimal[model] = {'clf':gscv.best_estimator_, 'score':score}\n",
    "    print(\"{} score: {}\".format(model, score))"
   ]
  },
  {
   "cell_type": "code",
   "execution_count": 18,
   "metadata": {},
   "outputs": [
    {
     "data": {
      "text/plain": [
       "AdaBoostClassifier(algorithm='SAMME.R', base_estimator=None,\n",
       "          learning_rate=0.50075, n_estimators=537, random_state=None)"
      ]
     },
     "execution_count": 18,
     "metadata": {},
     "output_type": "execute_result"
    }
   ],
   "source": [
    "optimal[\"Adaboost Forest\"]['clf']"
   ]
  },
  {
   "cell_type": "markdown",
   "metadata": {},
   "source": [
    "###  100 dimensional embeddings"
   ]
  },
  {
   "cell_type": "markdown",
   "metadata": {},
   "source": [
    "#### Mean"
   ]
  },
  {
   "cell_type": "code",
   "execution_count": null,
   "metadata": {},
   "outputs": [],
   "source": [
    "from sklearn.model_selection import GridSearchCV, train_test_split\n",
    "from sklearn.metrics import accuracy_score\n",
    "from sklearn.ensemble import AdaBoostClassifier, RandomForestClassifier\n",
    "from sklearn.linear_model import LogisticRegression\n",
    "from sklearn.svm import SVC\n",
    "from sklearn.naive_bayes import GaussianNB\n",
    "\n",
    "# split data into testing and training\n",
    "xtrain, xtest, ytrain, ytest = train_test_split(ave_matrix100, y, test_size=0.25, random_state=11)\n",
    "\n",
    "models = [\n",
    "         \"Naive Bayes\",\n",
    "         \"SVM\",\n",
    "         \"Logistic Regression\",\n",
    "         \"Random Forest\",\n",
    "         \"Adaboost Forest\"\n",
    "        ]\n",
    "\n",
    "classifiers = [\n",
    "    GaussianNB(),\n",
    "    SVC(),\n",
    "    LogisticRegression(),\n",
    "    RandomForestClassifier(),\n",
    "    AdaBoostClassifier()\n",
    "]\n",
    "\n",
    "parameters = [\n",
    "              {},                                                         # Gaussian Naive Bayes\n",
    "              {'C': np.logspace(-4, 3, 5),                                # SVM\n",
    "               'degree': range(1, 4),\n",
    "               'kernel': ['poly']},\n",
    "              {'C': np.logspace(-4, 3, 15)},                              # Logistic Regression\n",
    "              {'n_estimators': np.linspace(100, 1000, 5).astype('int')},  # Random Forest\n",
    "              {'n_estimators': np.linspace(100, 1500, 5).astype('int'),    # Adaboost Forest\n",
    "               'learning_rate': np.linspace(0.001, 2, 3)},\n",
    "             ]\n",
    "optimal = {}\n",
    "for model, clf, params in zip(models, classifiers, parameters):\n",
    "    gscv = GridSearchCV(clf, param_grid=params, cv=10, n_jobs=-1)\n",
    "    gscv = gscv.fit(xtrain, ytrain)\n",
    "    score = gscv.best_score_\n",
    "    optimal[model] = {'clf':gscv.best_estimator_, 'score':score}\n",
    "    print(\"{} score: {}\".format(model, score))"
   ]
  },
  {
   "cell_type": "code",
   "execution_count": 18,
   "metadata": {},
   "outputs": [
    {
     "data": {
      "text/plain": [
       "AdaBoostClassifier(algorithm='SAMME.R', base_estimator=None,\n",
       "          learning_rate=0.50075, n_estimators=537, random_state=None)"
      ]
     },
     "execution_count": 18,
     "metadata": {},
     "output_type": "execute_result"
    }
   ],
   "source": [
    "optimal[\"Adaboost Forest\"]['clf']"
   ]
  },
  {
   "cell_type": "markdown",
   "metadata": {},
   "source": [
    "#### Max, Min, Mean"
   ]
  },
  {
   "cell_type": "code",
   "execution_count": 40,
   "metadata": {},
   "outputs": [
    {
     "name": "stdout",
     "output_type": "stream",
     "text": [
      "Wall time: 0 ns\n",
      "Naive Bayes score: 0.6897333333333333\n",
      "SVM score: 0.8569333333333333\n",
      "Logistic Regression score: 0.8556\n",
      "Random Forest score: 0.8326666666666667\n",
      "Adaboost Forest score: 0.8498666666666667\n"
     ]
    }
   ],
   "source": [
    "%time\n",
    "from sklearn.model_selection import GridSearchCV, train_test_split\n",
    "from sklearn.metrics import accuracy_score\n",
    "from sklearn.ensemble import AdaBoostClassifier, RandomForestClassifier\n",
    "from sklearn.linear_model import LogisticRegression\n",
    "from sklearn.svm import SVC\n",
    "from sklearn.naive_bayes import GaussianNB\n",
    "\n",
    "# split data into testing and training\n",
    "xtrain, xtest, ytrain, ytest = train_test_split(fmatrix100, y, test_size=0.25, random_state=11)\n",
    "\n",
    "models = [\n",
    "         \"Naive Bayes\",\n",
    "         \"SVM\",\n",
    "         \"Logistic Regression\",\n",
    "         \"Random Forest\",\n",
    "         \"Adaboost Forest\"\n",
    "        ]\n",
    "\n",
    "classifiers = [\n",
    "    GaussianNB(),\n",
    "    SVC(),\n",
    "    LogisticRegression(),\n",
    "    RandomForestClassifier(),\n",
    "    AdaBoostClassifier()\n",
    "]\n",
    "\n",
    "parameters = [\n",
    "              {},                                                         # Gaussian Naive Bayes\n",
    "              {'C': np.logspace(-4, 3, 5),                                # SVM\n",
    "               'degree': range(1, 4),\n",
    "               'kernel': ['poly']},\n",
    "              {'C': np.logspace(-4, 3, 15)},                              # Logistic Regression\n",
    "              {'n_estimators': np.linspace(100, 1000, 5).astype('int')},  # Random Forest\n",
    "              {'n_estimators': np.linspace(100, 1500, 5).astype('int'),    # Adaboost Forest\n",
    "               'learning_rate': np.linspace(0.001, 2, 3)},\n",
    "             ]\n",
    "optimal = {}\n",
    "for model, clf, params in zip(models, classifiers, parameters):\n",
    "    gscv = GridSearchCV(clf, param_grid=params, cv=10, n_jobs=-1)\n",
    "    gscv = gscv.fit(xtrain, ytrain)\n",
    "    score = gscv.best_score_\n",
    "    optimal[model] = {'clf':gscv.best_estimator_, 'score':score}\n",
    "    print(\"{} score: {}\".format(model, score))"
   ]
  },
  {
   "cell_type": "code",
   "execution_count": 18,
   "metadata": {},
   "outputs": [
    {
     "data": {
      "text/plain": [
       "AdaBoostClassifier(algorithm='SAMME.R', base_estimator=None,\n",
       "          learning_rate=0.50075, n_estimators=537, random_state=None)"
      ]
     },
     "execution_count": 18,
     "metadata": {},
     "output_type": "execute_result"
    }
   ],
   "source": [
    "optimal[\"Adaboost Forest\"]['clf']"
   ]
  },
  {
   "cell_type": "markdown",
   "metadata": {},
   "source": [
    "## Calculate test error\n",
    "We now test the best model, as obtained by the last procedure. This model is the best among the selected model families and also has the best hyper-parameter selection."
   ]
  },
  {
   "cell_type": "code",
   "execution_count": null,
   "metadata": {
    "collapsed": true
   },
   "outputs": [],
   "source": [
    "# get the best model\n",
    "bestModel = max(map(lambda x: (optimal[x]['score'], x), optimal.keys()))[1]\n",
    "bestClf = optimal[bestModel]['clf']\n",
    "\n",
    "# calculate the predictions\n",
    "predtest = bestClf.predict(xtest)\n",
    "predtrain = bestClf.predict(xtrain)\n",
    "\n",
    "# report training and test accuracy\n",
    "print('Training accuracy is: ' + str(accuracy_score(ytrain, predtrain)))\n",
    "print('Test accuracy is: ' + str(accuracy_score(ytest, predtest)))"
   ]
  },
  {
   "cell_type": "code",
   "execution_count": null,
   "metadata": {
    "collapsed": true
   },
   "outputs": [],
   "source": []
  }
 ],
 "metadata": {
  "kernelspec": {
   "display_name": "Python [default]",
   "language": "python",
   "name": "python3"
  },
  "language_info": {
   "codemirror_mode": {
    "name": "ipython",
    "version": 3
   },
   "file_extension": ".py",
   "mimetype": "text/x-python",
   "name": "python",
   "nbconvert_exporter": "python",
   "pygments_lexer": "ipython3",
   "version": "3.6.5"
  }
 },
 "nbformat": 4,
 "nbformat_minor": 2
}
